{
 "cells": [
  {
   "cell_type": "markdown",
   "metadata": {},
   "source": [
    "# Computing communities in large networks using random walks"
   ]
  },
  {
   "cell_type": "markdown",
   "metadata": {},
   "source": [
    "## Generate random graph with two communities"
   ]
  },
  {
   "cell_type": "code",
   "execution_count": 646,
   "metadata": {
    "collapsed": true
   },
   "outputs": [],
   "source": [
    "import numpy as np\n",
    "import networkx as nx\n",
    "import matplotlib.pyplot as plt\n",
    "from scipy.cluster.hierarchy import dendrogram\n",
    "%matplotlib inline"
   ]
  },
  {
   "cell_type": "code",
   "execution_count": 647,
   "metadata": {
    "collapsed": false
   },
   "outputs": [],
   "source": [
    "# Setup the graph, with n vertices\n",
    "N = 30\n",
    "num_clusters = 3\n",
    "A = np.eye(N, dtype=int)\n",
    "p_edge = 0.99"
   ]
  },
  {
   "cell_type": "code",
   "execution_count": 648,
   "metadata": {
    "collapsed": false
   },
   "outputs": [
    {
     "name": "stdout",
     "output_type": "stream",
     "text": [
      "[1 1 0 2 0 2 0 1 0 2 1 0 1 2 2 2 0 0 0 1 2 2 1 2 2 1 2 0 2 0]\n"
     ]
    }
   ],
   "source": [
    "#assign clusters to edges\n",
    "cluster_assignements = np.random.randint(num_clusters, size=N)\n",
    "print(cluster_assignements)"
   ]
  },
  {
   "cell_type": "code",
   "execution_count": 649,
   "metadata": {
    "collapsed": false
   },
   "outputs": [],
   "source": [
    "# create random edges\n",
    "for i in range(N):\n",
    "    for j in range(i, N):\n",
    "        p = p_edge if cluster_assignements[i] == cluster_assignements[j] else (1 - p_edge)\n",
    "        A[i,j] = max(A[i,j], p > np.random.rand())\n",
    "        A[j,i] = A[i,j]"
   ]
  },
  {
   "cell_type": "code",
   "execution_count": 650,
   "metadata": {
    "collapsed": true
   },
   "outputs": [],
   "source": [
    "# Use example from the paper instead\n",
    "N = 16\n",
    "num_clusters = 2\n",
    "A = np.eye(N, dtype=int)\n",
    "cluster_assignements = np.array([1,1,1,1,1,1,1,1,0,0,0,0,0,0,0,0])\n",
    "edges = [\n",
    "    (0,4),\n",
    "    (0,6),\n",
    "    (1,2),\n",
    "    (1,3),\n",
    "    (1,4),\n",
    "    (1,8),\n",
    "    (2,3),\n",
    "    (2,4),\n",
    "    (2,5),\n",
    "    (2,7),\n",
    "    (3,6),\n",
    "    (4,5),\n",
    "    (5,6),\n",
    "    (5,9),\n",
    "    (6,7),\n",
    "    (7,9),\n",
    "    (8,9),\n",
    "    (8,10),\n",
    "    (8,11),\n",
    "    (8,12),\n",
    "    (8,14),\n",
    "    (9,10),\n",
    "    (9,14),\n",
    "    (11,13),\n",
    "    (12,13),\n",
    "    (12,14),\n",
    "    (13,14),\n",
    "    (14,15)\n",
    "]\n",
    "for (i,j) in edges:\n",
    "    A[i,j] = 1\n",
    "    A[j,i] = 1"
   ]
  },
  {
   "cell_type": "code",
   "execution_count": 651,
   "metadata": {
    "collapsed": false
   },
   "outputs": [
    {
     "name": "stdout",
     "output_type": "stream",
     "text": [
      "Num edges: 44.0\n"
     ]
    }
   ],
   "source": [
    "#compute the number of edges\n",
    "M = (np.sum(A) + N) / 2\n",
    "print(\"Num edges: {}\".format(M))"
   ]
  },
  {
   "cell_type": "code",
   "execution_count": 652,
   "metadata": {
    "collapsed": false
   },
   "outputs": [
    {
     "name": "stdout",
     "output_type": "stream",
     "text": [
      "[[8, 9, 10, 11, 12, 13, 14, 15], [0, 1, 2, 3, 4, 5, 6, 7]]\n"
     ]
    }
   ],
   "source": [
    "cluster_nodes = [list(np.where(cluster_assignements == i)[0]) for i in range(num_clusters)]\n",
    "print(cluster_nodes)"
   ]
  },
  {
   "cell_type": "code",
   "execution_count": 653,
   "metadata": {
    "collapsed": false
   },
   "outputs": [
    {
     "data": {
      "image/png": "[encoded data removed]",
      "text/plain": [
       "<matplotlib.figure.Figure at 0x11409b128>"
      ]
     },
     "metadata": {},
     "output_type": "display_data"
    }
   ],
   "source": [
    "#draw the graph\n",
    "def draw_graph(clusters, num_clusters):\n",
    "    colors = ['r', 'g', 'b', 'y', 'b']\n",
    "    G = nx.from_numpy_matrix(A)\n",
    "    pos = nx.spring_layout(G)\n",
    "    for i in range(num_clusters):\n",
    "        nx.draw_networkx_nodes(G, pos, nodelist=clusters[i], node_color=colors[i % len(colors)], node_size=500, alpha=1)\n",
    "    # nx.draw_networkx_nodes(G, pos, nodelist=cluster2_nodes, node_color='g', node_size=500, alpha=1)\n",
    "    nx.draw_networkx_edges(G, pos, width=0.5)\n",
    "    nx.draw_networkx_labels(G, pos, {i:i for i in range(N)})\n",
    "draw_graph(cluster_nodes, num_clusters)"
   ]
  },
  {
   "cell_type": "markdown",
   "metadata": {},
   "source": [
    "## Computing distances"
   ]
  },
  {
   "cell_type": "markdown",
   "metadata": {},
   "source": [
    "### Helper functions"
   ]
  },
  {
   "cell_type": "code",
   "execution_count": 654,
   "metadata": {
    "collapsed": false
   },
   "outputs": [],
   "source": [
    "degrees = np.sum(A, axis=1)\n",
    "D_inv = np.diag(1/degrees)\n",
    "def distance(P_i, P_j):\n",
    "    return np.sqrt(np.sum(((P_i - P_j) ** 2) / degrees))\n",
    "\n",
    "def distance2(P_i, P_j):\n",
    "    return np.sqrt(np.sum((np.dot(D_inv/2, P_i) - np.dot(D_inv/2, P_j)) ** 2))\n",
    "\n",
    "def Δσ(l1, P_1, l2, P_2):\n",
    "    return 1 / N * l1 * l2 / (l1 + l2) * (distance(P_1,P_2) ** 2)"
   ]
  },
  {
   "cell_type": "code",
   "execution_count": 655,
   "metadata": {
    "collapsed": true
   },
   "outputs": [],
   "source": [
    "#find the two clusters C1 and C2 with the smallest Δσ(C1, C2)\n",
    "def find_to_merge(clusters):\n",
    "    # find minimum Δσ for two clusters\n",
    "    min_Δσ = None\n",
    "    to_merge = []\n",
    "    for i, cluster in clusters.items():\n",
    "        for j, dist in cluster['neighbours'].items():\n",
    "            if min_Δσ == None or dist < min_Δσ:\n",
    "                min_Δσ = dist\n",
    "                to_merge = [(i, j)]\n",
    "            elif (dist == min_Δσ):\n",
    "                to_merge.append((i,j))\n",
    "    return (to_merge[0][0], to_merge[0][1], min_Δσ)"
   ]
  },
  {
   "cell_type": "code",
   "execution_count": 656,
   "metadata": {
    "collapsed": true
   },
   "outputs": [],
   "source": [
    "# Given clusters, merge C1 and C2 into a new cluster with id new_id\n",
    "def merge_clusters(C1, C2, clusters, new_id):\n",
    "    l1 = len(C1['nodes'])\n",
    "    l2 = len(C2['nodes'])\n",
    "    # Create new Cluster, merging C1 and C2\n",
    "    new_nodes = C1['nodes'].union(C2['nodes'])\n",
    "    new_neighbours = set(C1['neighbours'].keys()).union(set(C2['neighbours'].keys()))\n",
    "    new_neighbours.remove(i)\n",
    "    new_neighbours.remove(j)\n",
    "    \n",
    "    #compute the P_t for the new cluster\n",
    "    new_P_t = (l1 * C1['P_t'] + l2 * C2['P_t']) / (l1 + l2)\n",
    "    \n",
    "    #compute new_P_t manually, sanity check\n",
    "    new_P_t2 = np.zeros(N)\n",
    "    for node in new_nodes:\n",
    "        new_P_t2 += P_t[node]\n",
    "    new_P_t2 /= len(new_nodes)\n",
    "\n",
    "    assert(np.allclose(new_P_t, new_P_t2))\n",
    "    \n",
    "    # Compute Δσ's for the new cluster\n",
    "    neighbours = {}\n",
    "    for n in new_neighbours:\n",
    "        C = clusters[n]\n",
    "        l3 = len(C['nodes'])\n",
    "        if n in C1['neighbours'].keys() and n in C2['neighbours'].keys():\n",
    "            #apply Theorem 4\n",
    "            x_A = (l1 + l3) * C1['neighbours'][n]\n",
    "            x_B = (l2 + l3) * C2['neighbours'][n]\n",
    "            x_C = (l3) * C1['neighbours'][j]\n",
    "            new_Δσ = (x_A + x_B - x_C) / (l1 + l2 + l3)\n",
    "            new_Δσ2 = Δσ(l1+l2, new_P_t, l3, C['P_t'])\n",
    "            assert(np.isclose(new_Δσ, new_Δσ2))\n",
    "        else:\n",
    "            #apply Theorem 3\n",
    "            new_Δσ = Δσ(l1+l2, new_P_t, l3, C['P_t'])\n",
    "    #       new_Δσ2 = (l1 + l2) * l3  * (distance(new_P_t, C['P_t']) ** 2) / N / (l1 + l2 + l3)\n",
    "    #       assert(np.isclose(new_Δσ, new_Δσ2))\n",
    "        \n",
    "        neighbours[n] = new_Δσ\n",
    "        C['neighbours'].pop(i, None)\n",
    "        C['neighbours'].pop(j, None)\n",
    "        C['neighbours'][new_id] = new_Δσ\n",
    "    \n",
    "    new_cluster = {\n",
    "        'nodes': new_nodes,\n",
    "        'neighbours': neighbours,\n",
    "        'P_t': new_P_t\n",
    "    }\n",
    "    \n",
    "    return new_cluster"
   ]
  },
  {
   "cell_type": "code",
   "execution_count": 657,
   "metadata": {
    "collapsed": true
   },
   "outputs": [],
   "source": [
    "# Compute the modularity of a given clustering\n",
    "def modularity(clusters):\n",
    "    def edge_fraction(C1, C2):\n",
    "        sum = 0\n",
    "        for i in C1['nodes']:\n",
    "            for j in C2['nodes']:\n",
    "                if (A[i,j] == 1):\n",
    "                    sum += 1\n",
    "        return sum / M\n",
    "    def edges_bound(C1):\n",
    "        sum = 0\n",
    "        for C in clusters.values():\n",
    "            sum += edge_fraction(C1, C)\n",
    "        return sum\n",
    "    \n",
    "    modularity = 0.0\n",
    "    for C in clusters.values():\n",
    "        modularity += edge_fraction(C,C) - (edges_bound(C)**2)\n",
    "    return modularity"
   ]
  },
  {
   "cell_type": "code",
   "execution_count": 658,
   "metadata": {
    "collapsed": true
   },
   "outputs": [],
   "source": [
    "def partition(clusters):\n",
    "    return [list(C['nodes']) for C in clusters.values()]"
   ]
  },
  {
   "cell_type": "markdown",
   "metadata": {},
   "source": [
    "### Create partitions"
   ]
  },
  {
   "cell_type": "code",
   "execution_count": 659,
   "metadata": {
    "collapsed": false
   },
   "outputs": [],
   "source": [
    "# Create transition matrix\n",
    "np.set_printoptions(precision=4)\n",
    "P = np.dot(D_inv, A)"
   ]
  },
  {
   "cell_type": "code",
   "execution_count": 660,
   "metadata": {
    "collapsed": false
   },
   "outputs": [],
   "source": [
    "#Compute probability vectors\n",
    "t = 3\n",
    "P_t = np.eye(N)\n",
    "for i in range(t):\n",
    "    P_t = np.dot(P, P_t)"
   ]
  },
  {
   "cell_type": "code",
   "execution_count": 661,
   "metadata": {
    "collapsed": false
   },
   "outputs": [
    {
     "name": "stdout",
     "output_type": "stream",
     "text": [
      "Qs: [0.2024793388429752, 0.23140495867768593, 0.27066115702479338, 0.29028925619834711, 0.28409090909090906, 0.30475206611570249, 0.33161157024793392, 0.31508264462809921, 0.34090909090909094, 0.27376033057851246, 0.29648760330578516, 0.2820247933884299, 0.18285123966942157, 0.16012396694214892, -1.0413223140495871]\n",
      "Δσs: [2.3972308338682068e-05, 3.1089318553137509e-05, 5.4828523901732609e-05, 5.5099829950719277e-05, 6.2667253125162488e-05, 7.0232952844604475e-05, 8.6559405349877249e-05, 0.00010962841800707286, 0.0001227742295724146, 0.00015208027007799054, 0.00018583963718297612, 0.00024646280283405989, 0.0010117283244034387, 0.001230022680968945, 0.007307807914679003]\n"
     ]
    }
   ],
   "source": [
    "#create initial clusters\n",
    "A2 = A - np.eye(N)\n",
    "clusters = {}\n",
    "for i in range(N):\n",
    "    nodes = {i}\n",
    "    neighbours = {}\n",
    "    for j in range(N):\n",
    "        if A[i,j] and i != j:\n",
    "            neighbours[j] = Δσ(1, P_t[i], 1, P_t[j])\n",
    "    clusters[i] = {\n",
    "        'nodes': nodes,\n",
    "        'P_t': P_t[i],\n",
    "        'neighbours': neighbours\n",
    "    }\n",
    "# merge clusters repeatedly\n",
    "new_id = N\n",
    "build_tree = []\n",
    "Qs = [] #modularity array for each partition\n",
    "Δσs = []\n",
    "partitions = []\n",
    "\n",
    "while(len(clusters) > 1):    \n",
    "    partitions.append(partition(clusters))\n",
    "    (i,j, min_Δσ) = find_to_merge(clusters)\n",
    "    # Compute new partion\n",
    "    clusters[new_id] = merge_clusters(clusters[i],clusters[j], clusters, new_id)\n",
    "    clusters.pop(i)\n",
    "    clusters.pop(j)\n",
    "    \n",
    "    # For dendogram\n",
    "    build_tree.append((new_id, i, j))\n",
    "    \n",
    "    Δσs.append(min_Δσ)\n",
    "    Qs.append(modularity(clusters))\n",
    "    new_id += 1\n",
    "    \n",
    "print(\"Qs: {}\".format(Qs))\n",
    "print(\"Δσs: {}\".format(Δσs))"
   ]
  },
  {
   "cell_type": "markdown",
   "metadata": {},
   "source": [
    "### Evaluate partitions and choose optimal"
   ]
  },
  {
   "cell_type": "code",
   "execution_count": 662,
   "metadata": {
    "collapsed": false
   },
   "outputs": [],
   "source": [
    "#create linkage matrix\n",
    "Z = np.array([[id1, id2, j+1, 0] for (j, (new_id, id1, id2)) in enumerate(build_tree)], dtype=np.double)"
   ]
  },
  {
   "cell_type": "code",
   "execution_count": 663,
   "metadata": {
    "collapsed": false
   },
   "outputs": [
    {
     "data": {
      "text/plain": [
       "{'color_list': ['g',\n",
       "  'g',\n",
       "  'g',\n",
       "  'g',\n",
       "  'g',\n",
       "  'g',\n",
       "  'b',\n",
       "  'r',\n",
       "  'r',\n",
       "  'c',\n",
       "  'c',\n",
       "  'b',\n",
       "  'b',\n",
       "  'b',\n",
       "  'b'],\n",
       " 'dcoord': [[0.0, 1.0, 1.0, 0.0],\n",
       "  [0.0, 3.0, 3.0, 1.0],\n",
       "  [0.0, 4.0, 4.0, 0.0],\n",
       "  [0.0, 5.0, 5.0, 4.0],\n",
       "  [0.0, 8.0, 8.0, 5.0],\n",
       "  [3.0, 10.0, 10.0, 8.0],\n",
       "  [0.0, 12.0, 12.0, 10.0],\n",
       "  [0.0, 7.0, 7.0, 0.0],\n",
       "  [0.0, 9.0, 9.0, 7.0],\n",
       "  [0.0, 2.0, 2.0, 0.0],\n",
       "  [0.0, 6.0, 6.0, 2.0],\n",
       "  [0.0, 11.0, 11.0, 6.0],\n",
       "  [9.0, 13.0, 13.0, 11.0],\n",
       "  [0.0, 14.0, 14.0, 13.0],\n",
       "  [12.0, 15.0, 15.0, 14.0]],\n",
       " 'icoord': [[25.0, 25.0, 35.0, 35.0],\n",
       "  [15.0, 15.0, 30.0, 30.0],\n",
       "  [65.0, 65.0, 75.0, 75.0],\n",
       "  [55.0, 55.0, 70.0, 70.0],\n",
       "  [45.0, 45.0, 62.5, 62.5],\n",
       "  [22.5, 22.5, 53.75, 53.75],\n",
       "  [5.0, 5.0, 38.125, 38.125],\n",
       "  [105.0, 105.0, 115.0, 115.0],\n",
       "  [95.0, 95.0, 110.0, 110.0],\n",
       "  [145.0, 145.0, 155.0, 155.0],\n",
       "  [135.0, 135.0, 150.0, 150.0],\n",
       "  [125.0, 125.0, 142.5, 142.5],\n",
       "  [102.5, 102.5, 133.75, 133.75],\n",
       "  [85.0, 85.0, 118.125, 118.125],\n",
       "  [21.5625, 21.5625, 101.5625, 101.5625]],\n",
       " 'ivl': ['0',\n",
       "  '1',\n",
       "  '2',\n",
       "  '3',\n",
       "  '7',\n",
       "  '6',\n",
       "  '4',\n",
       "  '5',\n",
       "  '15',\n",
       "  '8',\n",
       "  '9',\n",
       "  '10',\n",
       "  '14',\n",
       "  '11',\n",
       "  '12',\n",
       "  '13'],\n",
       " 'leaves': [0, 1, 2, 3, 7, 6, 4, 5, 15, 8, 9, 10, 14, 11, 12, 13]}"
      ]
     },
     "execution_count": 663,
     "metadata": {},
     "output_type": "execute_result"
    },
    {
     "data": {
      "image/png": "[encoded data removed]",
      "text/plain": [
       "<matplotlib.figure.Figure at 0x11071c160>"
      ]
     },
     "metadata": {},
     "output_type": "display_data"
    }
   ],
   "source": [
    "dendrogram(Z)"
   ]
  },
  {
   "cell_type": "code",
   "execution_count": 664,
   "metadata": {
    "collapsed": false
   },
   "outputs": [
    {
     "data": {
      "text/plain": [
       "[<matplotlib.lines.Line2D at 0x110142da0>]"
      ]
     },
     "execution_count": 664,
     "metadata": {},
     "output_type": "execute_result"
    },
    {
     "data": {
      "image/png": "[encoded data removed]",
      "text/plain": [
       "<matplotlib.figure.Figure at 0x10f138668>"
      ]
     },
     "metadata": {},
     "output_type": "display_data"
    }
   ],
   "source": [
    "plt.plot(np.arange(len(Qs)), Qs)"
   ]
  },
  {
   "cell_type": "code",
   "execution_count": 640,
   "metadata": {
    "collapsed": false
   },
   "outputs": [
    {
     "name": "stdout",
     "output_type": "stream",
     "text": [
      "[0.0, 0.0, 0.0, 0.0, 0.0, 0.0, 0.0, 0.0, 0.0, 0.0, 0.0, 0.0, 0.0, 0.0, 0.0, 0.0, 0.0, 0.0, 0.0, 0.0, 0.0, 0.0, 5.2525362119651884e-36, 2.8510033922805292e-06, 3.6776846812981719e-06, 3.6776846812981719e-06, 8.9618668251012246e-06, 0.0030423598596779405, 0.0029266853262692634]\n"
     ]
    },
    {
     "data": {
      "text/plain": [
       "[<matplotlib.lines.Line2D at 0x11113d4e0>]"
      ]
     },
     "execution_count": 640,
     "metadata": {},
     "output_type": "execute_result"
    },
    {
     "data": {
      "image/png": "[encoded data removed]",
      "text/plain": [
       "<matplotlib.figure.Figure at 0x110e78f28>"
      ]
     },
     "metadata": {},
     "output_type": "display_data"
    }
   ],
   "source": [
    "print(Δσs)\n",
    "plt.plot(np.arange(len(Δσs)), Δσs)"
   ]
  },
  {
   "cell_type": "code",
   "execution_count": 641,
   "metadata": {
    "collapsed": false
   },
   "outputs": [
    {
     "name": "stdout",
     "output_type": "stream",
     "text": [
      "[0.0, 0.0, 0.0, 0.0, 0.0, 0.0, 0.0, 0.0, 0.0, 0.0, 0.0, 0.0, 0.0, 0.0, 0.0, 0.0, 0.0, 0.0, 0.0, 0.0, 0.0, 0.0, 5.2525362119651884e-36, 2.8510033922805292e-06, 3.6776846812981719e-06, 3.6776846812981719e-06, 8.9618668251012246e-06, 0.0030423598596779405, 0.0029266853262692634]\n",
      "[  9.6198e-01   3.3948e+02   2.4368e+00   1.0000e+00   1.2900e+00\n",
      "   5.4279e+29   0.0000e+00   0.0000e+00   0.0000e+00   0.0000e+00\n",
      "   0.0000e+00   0.0000e+00   0.0000e+00   0.0000e+00   0.0000e+00\n",
      "   0.0000e+00   0.0000e+00   0.0000e+00   0.0000e+00   0.0000e+00\n",
      "   0.0000e+00   0.0000e+00   0.0000e+00   0.0000e+00   0.0000e+00\n",
      "   0.0000e+00   0.0000e+00   0.0000e+00]\n"
     ]
    },
    {
     "data": {
      "image/png": "[encoded data removed]",
      "text/plain": [
       "<matplotlib.figure.Figure at 0x11113ddd8>"
      ]
     },
     "metadata": {},
     "output_type": "display_data"
    }
   ],
   "source": [
    "#compute η's\n",
    "print(Δσs)\n",
    "η = []\n",
    "for i in range(0, len(Δσs) - 1):\n",
    "    if Δσs[i] == 0:\n",
    "        η.append(0)\n",
    "    else: \n",
    "        η.append(Δσs[i+1]/Δσs[i])\n",
    "print(np.flip(η, axis=0))\n",
    "plt.plot(np.arange(len(η)), np.flip(η, axis=0))\n",
    "best_num_clusters = np.argmax(np.flip(η, axis=0)[1:]) + 1\n"
   ]
  },
  {
   "cell_type": "code",
   "execution_count": 642,
   "metadata": {
    "collapsed": false
   },
   "outputs": [
    {
     "name": "stdout",
     "output_type": "stream",
     "text": [
      "[[4, 6, 10, 15, 16, 17, 19, 21, 25, 26, 29], [0, 1, 2, 3, 5, 7, 8, 9, 11, 12, 13, 14, 18, 20, 22, 23, 24, 27, 28]]\n"
     ]
    }
   ],
   "source": [
    "print(partitions[N-2])"
   ]
  },
  {
   "cell_type": "code",
   "execution_count": 643,
   "metadata": {
    "collapsed": false
   },
   "outputs": [
    {
     "data": {
      "image/png": "[encoded data removed]",
      "text/plain": [
       "<matplotlib.figure.Figure at 0x111215898>"
      ]
     },
     "metadata": {},
     "output_type": "display_data"
    }
   ],
   "source": [
    "draw_graph(partitions[N-2], 2)"
   ]
  },
  {
   "cell_type": "code",
   "execution_count": 644,
   "metadata": {
    "collapsed": false
   },
   "outputs": [
    {
     "data": {
      "image/png": "[encoded data removed]",
      "text/plain": [
       "<matplotlib.figure.Figure at 0x110fbfe10>"
      ]
     },
     "metadata": {},
     "output_type": "display_data"
    }
   ],
   "source": [
    "draw_graph(partitions[N-3], 3)"
   ]
  },
  {
   "cell_type": "code",
   "execution_count": 645,
   "metadata": {
    "collapsed": false
   },
   "outputs": [
    {
     "name": "stdout",
     "output_type": "stream",
     "text": [
      "5\n",
      "[[22], [0, 8, 9, 13, 14, 18, 20, 23, 24, 28], [2, 3, 5, 11, 27, 12], [1, 7], [4, 6, 10, 15, 16, 17, 19, 21, 25, 26, 29]]\n"
     ]
    },
    {
     "data": {
      "image/png": "[encoded data removed]",
      "text/plain": [
       "<matplotlib.figure.Figure at 0x11409bf28>"
      ]
     },
     "metadata": {},
     "output_type": "display_data"
    }
   ],
   "source": [
    "print(best_num_clusters)\n",
    "print(partitions[N-best_num_clusters])\n",
    "draw_graph(partitions[N-best_num_clusters], best_num_clusters)"
   ]
  },
  {
   "cell_type": "code",
   "execution_count": null,
   "metadata": {
    "collapsed": true
   },
   "outputs": [],
   "source": []
  },
  {
   "cell_type": "code",
   "execution_count": null,
   "metadata": {
    "collapsed": true
   },
   "outputs": [],
   "source": []
  },
  {
   "cell_type": "code",
   "execution_count": null,
   "metadata": {
    "collapsed": true
   },
   "outputs": [],
   "source": []
  },
  {
   "cell_type": "code",
   "execution_count": null,
   "metadata": {
    "collapsed": true
   },
   "outputs": [],
   "source": []
  }
 ],
 "metadata": {
  "anaconda-cloud": {},
  "kernelspec": {
   "display_name": "Python [conda env:python3]",
   "language": "python",
   "name": "conda-env-python3-py"
  },
  "language_info": {
   "codemirror_mode": {
    "name": "ipython",
    "version": 3
   },
   "file_extension": ".py",
   "mimetype": "text/x-python",
   "name": "python",
   "nbconvert_exporter": "python",
   "pygments_lexer": "ipython3",
   "version": "3.5.2"
  },
  "toc": {
   "nav_menu": {},
   "number_sections": true,
   "sideBar": true,
   "skip_h1_title": false,
   "toc_cell": false,
   "toc_position": {},
   "toc_section_display": "block",
   "toc_window_display": false
  }
 },
 "nbformat": 4,
 "nbformat_minor": 2
}
