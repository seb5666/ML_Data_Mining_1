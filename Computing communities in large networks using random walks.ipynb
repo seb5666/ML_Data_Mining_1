{
 "cells": [
  {
   "cell_type": "markdown",
   "metadata": {},
   "source": [
    "# Computing communities in large networks using random walks"
   ]
  },
  {
   "cell_type": "code",
   "execution_count": 1,
   "metadata": {
    "collapsed": true
   },
   "outputs": [],
   "source": [
    "import numpy as np\n",
    "import networkx as nx\n",
    "import matplotlib.pyplot as plt\n",
    "from scipy.cluster.hierarchy import dendrogram\n",
    "import copy\n",
    "%matplotlib inline"
   ]
  },
  {
   "cell_type": "markdown",
   "metadata": {},
   "source": [
    "## Generate the graph"
   ]
  },
  {
   "cell_type": "markdown",
   "metadata": {},
   "source": [
    "**Run only one of the following cells, depending on which graph you want to cluster**"
   ]
  },
  {
   "cell_type": "code",
   "execution_count": 112,
   "metadata": {
    "collapsed": false
   },
   "outputs": [],
   "source": [
    "# Create a random graph\n",
    "N = 320\n",
    "num_clusters = 4\n",
    "A = np.eye(N, dtype=int)\n",
    "p_in = 0.99\n",
    "p_out = 0.05\n",
    "\n",
    "#assign clusters to edges\n",
    "# # random assignement\n",
    "# cluster_assignements = np.random.randint(num_clusters, size=N)\n",
    "# same number for each cluster\n",
    "cluster_assignements = np.repeat(np.arange(num_clusters), int(N/num_clusters))\n",
    "\n",
    "# create random edges\n",
    "for i in range(N):\n",
    "    for j in range(i, N):\n",
    "        p = p_in if cluster_assignements[i] == cluster_assignements[j] else p_out\n",
    "        A[i,j] = max(A[i,j], p > np.random.rand())\n",
    "        A[j,i] = A[i,j]"
   ]
  },
  {
   "cell_type": "code",
   "execution_count": 247,
   "metadata": {
    "collapsed": false
   },
   "outputs": [],
   "source": [
    "# Graph example from the paper\n",
    "N = 16\n",
    "num_clusters = 2\n",
    "A = np.eye(N, dtype=int)\n",
    "cluster_assignements = np.array([1,1,1,1,1,1,1,1,0,0,0,0,0,0,0,0])\n",
    "edges = [\n",
    "    (0,4),\n",
    "    (0,6),\n",
    "    (1,2),\n",
    "    (1,3),\n",
    "    (1,4),\n",
    "    (1,8),\n",
    "    (2,3),\n",
    "    (2,4),\n",
    "    (2,5),\n",
    "    (2,7),\n",
    "    (3,6),\n",
    "    (4,5),\n",
    "    (5,6),\n",
    "    (5,9),\n",
    "    (6,7),\n",
    "    (7,9),\n",
    "    (8,9),\n",
    "    (8,10),\n",
    "    (8,11),\n",
    "    (8,12),\n",
    "    (8,14),\n",
    "    (9,10),\n",
    "    (9,14),\n",
    "    (11,13),\n",
    "    (12,13),\n",
    "    (12,14),\n",
    "    (13,14),\n",
    "    (14,15)\n",
    "]\n",
    "for (i,j) in edges:\n",
    "    A[i,j] = 1\n",
    "    A[j,i] = 1"
   ]
  },
  {
   "cell_type": "code",
   "execution_count": 155,
   "metadata": {
    "collapsed": false
   },
   "outputs": [],
   "source": [
    "#Karathe Club dataset\n",
    "G=nx.karate_club_graph()\n",
    "num_clusters = 2\n",
    "A = np.array(nx.adjacency_matrix(G).todense())\n",
    "N = A.shape[0]\n",
    "for i in range(N):\n",
    "    A[i,i] = 1\n",
    "cluster_assignements = np.array([1 if G.node[i]['club'] == 'Mr. Hi' else 0 for i in range(N)])"
   ]
  },
  {
   "cell_type": "code",
   "execution_count": 520,
   "metadata": {
    "collapsed": false
   },
   "outputs": [],
   "source": [
    "#florentine family graph\n",
    "G=nx.florentine_families_graph()\n",
    "num_clusters = 2\n",
    "A = np.array(nx.adjacency_matrix(G).todense())\n",
    "N = A.shape[0]\n",
    "for i in range(N):\n",
    "    A[i,i] = 1"
   ]
  },
  {
   "cell_type": "code",
   "execution_count": 197,
   "metadata": {
    "collapsed": false
   },
   "outputs": [],
   "source": [
    "#college football network\n",
    "G = nx.read_gml('./datasets/college_football.gml')\n",
    "num_clusters = 12\n",
    "\n",
    "cluster_assignements = []\n",
    "for node in G.node.values():\n",
    "    cluster_assignements.append(node['value'])\n",
    "cluster_assignements = np.array(cluster_assignements)\n",
    "\n",
    "A = np.array(nx.adjacency_matrix(G).todense())\n",
    "N = A.shape[0]\n",
    "for i in range(N):\n",
    "    A[i,i] = 1"
   ]
  },
  {
   "cell_type": "code",
   "execution_count": 248,
   "metadata": {
    "collapsed": false
   },
   "outputs": [
    {
     "name": "stdout",
     "output_type": "stream",
     "text": [
      "[[8, 9, 10, 11, 12, 13, 14, 15], [0, 1, 2, 3, 4, 5, 6, 7]]\n"
     ]
    },
    {
     "data": {
      "image/png": "[encoded data removed]",
      "text/plain": [
       "<matplotlib.figure.Figure at 0x10b2dd748>"
      ]
     },
     "metadata": {},
     "output_type": "display_data"
    }
   ],
   "source": [
    "#draw the graph\n",
    "def draw_graph(clusters, num_clusters):\n",
    "    plt.axis('off')\n",
    "    colors = ['r', 'g', 'b', 'y', 'b']\n",
    "    G = nx.from_numpy_matrix(A)\n",
    "    pos = nx.spring_layout(G)\n",
    "    for i in range(num_clusters):\n",
    "        nx.draw_networkx_nodes(G, pos, nodelist=clusters[i], node_color=colors[i % len(colors)], node_size=500, alpha=1)\n",
    "    # nx.draw_networkx_nodes(G, pos, nodelist=cluster2_nodes, node_color='g', node_size=500, alpha=1)\n",
    "    nx.draw_networkx_edges(G, pos, width=0.5)\n",
    "    nx.draw_networkx_labels(G, pos, {i:i for i in range(N)})\n",
    "\n",
    "cluster_nodes = [list(np.where(cluster_assignements == i)[0]) for i in range(num_clusters)] \n",
    "print(cluster_nodes)\n",
    "draw_graph(cluster_nodes, num_clusters)\n",
    "# plt.savefig(\"plots/karate_graph\")"
   ]
  },
  {
   "cell_type": "markdown",
   "metadata": {},
   "source": [
    "## Computing distances"
   ]
  },
  {
   "cell_type": "code",
   "execution_count": 249,
   "metadata": {
    "collapsed": true
   },
   "outputs": [],
   "source": [
    "# Compute helper matrices\n",
    "degrees = np.sum(A, axis=1)\n",
    "D_inv = np.diag(1/degrees)\n",
    "D_inv_sqrt = np.diag(1/np.sqrt(degrees))\n",
    "\n",
    "#compute the number of edges\n",
    "M = (np.sum(A) + N) / 2\n",
    "\n",
    "# def distance(P_i, P_j):\n",
    "#     return np.sqrt(np.sum(((P_i - P_j) ** 2) / degrees))\n",
    "\n",
    "def distance(P_i, P_j):\n",
    "    return np.sqrt(np.sum((np.dot(D_inv_sqrt, P_i) - np.dot(D_inv_sqrt, P_j)) ** 2))\n",
    "\n",
    "def Δσ(l1, P_1, l2, P_2):\n",
    "    return 1 / N * l1 * l2 / (l1 + l2) * (distance(P_1,P_2) ** 2)"
   ]
  },
  {
   "cell_type": "markdown",
   "metadata": {},
   "source": [
    "## Hierarchical clustering"
   ]
  },
  {
   "cell_type": "markdown",
   "metadata": {},
   "source": [
    "### Helper functions"
   ]
  },
  {
   "cell_type": "code",
   "execution_count": 250,
   "metadata": {
    "collapsed": true
   },
   "outputs": [],
   "source": [
    "#find the two clusters C1 and C2 with the smallest Δσ(C1, C2)\n",
    "def find_to_merge(clusters):\n",
    "    # find minimum Δσ for two clusters\n",
    "    min_Δσ = None\n",
    "    to_merge = None\n",
    "    for i, cluster in clusters.items():\n",
    "        for j, dist in cluster['neighbours'].items():\n",
    "            if min_Δσ == None or dist < min_Δσ:\n",
    "                min_Δσ = dist\n",
    "                to_merge = (i, j)\n",
    "    return (to_merge[0], to_merge[1], min_Δσ)"
   ]
  },
  {
   "cell_type": "code",
   "execution_count": 251,
   "metadata": {
    "collapsed": true
   },
   "outputs": [],
   "source": [
    "# Given clusters, merge C1 and C2 into a new cluster with id new_id\n",
    "def merge_clusters(clusters, i, j, new_id):\n",
    "    C1 = clusters[i]\n",
    "    C2 = clusters[j]\n",
    "    C3 = {}\n",
    "    \n",
    "    l1 = len(C1['nodes'])\n",
    "    l2 = len(C2['nodes'])\n",
    "    # Create new Cluster, merging C1 and C2\n",
    "    C3['nodes'] = C1['nodes'].union(C2['nodes'])\n",
    "    \n",
    "    #compute the P_t for the new cluster\n",
    "    C3['P_t'] = (l1 * C1['P_t'] + l2 * C2['P_t']) / (l1 + l2)\n",
    "\n",
    "    new_neighbours = set(C1['neighbours'].keys()).union(set(C2['neighbours'].keys()))\n",
    "    new_neighbours.remove(i)\n",
    "    new_neighbours.remove(j)\n",
    "    \n",
    "    # Compute Δσ's for the new cluster\n",
    "    C3['neighbours'] = {}\n",
    "    for n in new_neighbours:\n",
    "        C = clusters[n]\n",
    "        l3 = len(C['nodes'])\n",
    "        if n in C1['neighbours'].keys() and n in C2['neighbours'].keys():\n",
    "            #apply Theorem 4\n",
    "            x_A = (l1 + l3) * C1['neighbours'][n]\n",
    "            x_B = (l2 + l3) * C2['neighbours'][n]\n",
    "            x_C = (l3) * C1['neighbours'][j]\n",
    "            new_Δσ = (x_A + x_B - x_C) / (l1 + l2 + l3)\n",
    "        else:\n",
    "            #apply Theorem 3\n",
    "            new_Δσ = Δσ(l1+l2, C3['P_t'], l3, C['P_t'])\n",
    "        \n",
    "        C3['neighbours'][n] = new_Δσ\n",
    "        C['neighbours'].pop(i, None)\n",
    "        C['neighbours'].pop(j, None)\n",
    "        C['neighbours'][new_id] = new_Δσ\n",
    "    \n",
    "    clusters[new_id] = C3\n",
    "    clusters.pop(i)\n",
    "    clusters.pop(j)"
   ]
  },
  {
   "cell_type": "code",
   "execution_count": 252,
   "metadata": {
    "collapsed": true
   },
   "outputs": [],
   "source": [
    "def create_partition(clusters):\n",
    "    return [C['nodes'] for C in clusters.values()]"
   ]
  },
  {
   "cell_type": "markdown",
   "metadata": {},
   "source": [
    "### Create partitions"
   ]
  },
  {
   "cell_type": "code",
   "execution_count": 253,
   "metadata": {
    "collapsed": false
   },
   "outputs": [],
   "source": [
    "# Create transition matrix\n",
    "np.set_printoptions(precision=2)\n",
    "P = np.dot(D_inv, A)"
   ]
  },
  {
   "cell_type": "code",
   "execution_count": 254,
   "metadata": {
    "collapsed": false
   },
   "outputs": [],
   "source": [
    "#Compute probability vectors\n",
    "t = 3\n",
    "P_t = np.eye(N)\n",
    "for i in range(t):\n",
    "    P_t = np.dot(P, P_t)"
   ]
  },
  {
   "cell_type": "code",
   "execution_count": 255,
   "metadata": {
    "collapsed": false
   },
   "outputs": [],
   "source": [
    "#create initial clusters\n",
    "A2 = A - np.eye(N)\n",
    "clusters = {}\n",
    "for i in range(N):\n",
    "    neighbours = {}\n",
    "    for j in range(N):\n",
    "        if i != j and A[i,j] :\n",
    "            neighbours[j] = Δσ(1, P_t[i], 1, P_t[j])\n",
    "    clusters[i] = {\n",
    "        'nodes': {i},\n",
    "        'P_t': P_t[i],\n",
    "        'neighbours': neighbours\n",
    "    }\n",
    "# merge clusters repeatedly\n",
    "new_id = N\n",
    "build_tree = []\n",
    "Δσs = []\n",
    "partitions = [create_partition(clusters)]\n",
    "cum_dist = 0\n",
    "\n",
    "while(len(clusters) > 1):    \n",
    "    # find clusters to merge\n",
    "    (i,j, min_Δσ) = find_to_merge(clusters)\n",
    "    # Compute new partion\n",
    "    merge_clusters(clusters, i, j, new_id)\n",
    "    \n",
    "    # For dendogram\n",
    "    build_tree.append((new_id, i, j, cum_dist))\n",
    "    cum_dist += min_Δσ\n",
    "    \n",
    "    # Keep track of partitions\n",
    "    partitions.append(create_partition(clusters))\n",
    "    \n",
    "    # For evaluation of partitions\n",
    "    Δσs.append(min_Δσ)\n",
    "    \n",
    "    new_id += 1"
   ]
  },
  {
   "cell_type": "markdown",
   "metadata": {},
   "source": [
    "## Evaluate partitions and choose the optimal one"
   ]
  },
  {
   "cell_type": "code",
   "execution_count": 256,
   "metadata": {
    "collapsed": false
   },
   "outputs": [
    {
     "data": {
      "image/png": "[encoded data removed]",
      "text/plain": [
       "<matplotlib.figure.Figure at 0x10c2c84e0>"
      ]
     },
     "metadata": {},
     "output_type": "display_data"
    },
    {
     "data": {
      "image/png": "[encoded data removed]",
      "text/plain": [
       "<matplotlib.figure.Figure at 0x10c316f98>"
      ]
     },
     "metadata": {},
     "output_type": "display_data"
    }
   ],
   "source": [
    "#create linkage matrix\n",
    "Z = np.array([[id1, id2, dist, 0] for (j, (new_id, id1, id2, dist)) in enumerate(build_tree)], dtype=np.double)\n",
    "dendrogram(Z);\n",
    "# plt.savefig(\"plots/karate_dendogram\")\n",
    "plt.figure()\n",
    "Z = np.array([[id1, id2, j+1, 0] for (j, (new_id, id1, id2, dist)) in enumerate(build_tree)], dtype=np.double)\n",
    "dendrogram(Z);"
   ]
  },
  {
   "cell_type": "code",
   "execution_count": 257,
   "metadata": {
    "collapsed": true
   },
   "outputs": [],
   "source": [
    "# Compute the modularity of a given partition\n",
    "def modularity(partition):\n",
    "    def edge_fraction(C1, C2):\n",
    "        sum = 0\n",
    "        # need to check if C1==C2, as we would be counting edges multiple times\n",
    "        if (C1 == C2):\n",
    "            nodes1 = list(C1)\n",
    "            nodes2 = list(C2)\n",
    "            for i in range(len(C1)):\n",
    "                for j in range(i, len(C2)):\n",
    "                    if (A[nodes1[i],nodes2[j]] == 1):\n",
    "                        sum += 1\n",
    "        else:\n",
    "            for i in C1:\n",
    "                for j in C2:\n",
    "                    if (A[i,j] == 1):\n",
    "                        sum += 1\n",
    "        return sum / M\n",
    "    \n",
    "    def edges_bound(C1):\n",
    "        sum = 0\n",
    "        for C in partition:\n",
    "            e = edge_fraction(C1, C)\n",
    "            sum += e\n",
    "        return sum\n",
    "    \n",
    "    modularity = 0.0\n",
    "    for C in partition:\n",
    "        e_C = edge_fraction(C,C)\n",
    "        a_C = edges_bound(C)\n",
    "        modularity += e_C - (a_C**2)\n",
    "    return modularity"
   ]
  },
  {
   "cell_type": "code",
   "execution_count": 258,
   "metadata": {
    "collapsed": false
   },
   "outputs": [
    {
     "name": "stdout",
     "output_type": "stream",
     "text": [
      "15\n"
     ]
    }
   ],
   "source": [
    "print(len(Δσs))"
   ]
  },
  {
   "cell_type": "code",
   "execution_count": 259,
   "metadata": {
    "collapsed": false
   },
   "outputs": [],
   "source": [
    "def increase_ratios(Δσs):\n",
    "    η = []\n",
    "    for i in range(0, len(Δσs) - 1):\n",
    "        if Δσs[i] == 0:\n",
    "            η.append(0)\n",
    "        else: \n",
    "            η.append(Δσs[i+1]/Δσs[i])\n",
    "    return  np.flip(η, axis=0)"
   ]
  },
  {
   "cell_type": "code",
   "execution_count": 260,
   "metadata": {
    "collapsed": false
   },
   "outputs": [],
   "source": [
    "Qs = [modularity(partitions[N-i]) for i in range(1, N)]\n",
    "\n",
    "η = increase_ratios(Δσs)"
   ]
  },
  {
   "cell_type": "code",
   "execution_count": 266,
   "metadata": {
    "collapsed": false
   },
   "outputs": [
    {
     "data": {
      "text/plain": [
       "<matplotlib.text.Text at 0x10b0407f0>"
      ]
     },
     "execution_count": 266,
     "metadata": {},
     "output_type": "execute_result"
    },
    {
     "data": {
      "image/png": "[encoded data removed]",
      "text/plain": [
       "<matplotlib.figure.Figure at 0x10be9d2b0>"
      ]
     },
     "metadata": {},
     "output_type": "display_data"
    },
    {
     "data": {
      "image/png": "[encoded data removed]",
      "text/plain": [
       "<matplotlib.figure.Figure at 0x10fe35518>"
      ]
     },
     "metadata": {},
     "output_type": "display_data"
    }
   ],
   "source": [
    "plt.title(r'Increase ratios $\\eta_k$')\n",
    "plt.plot(range(2, len(η) + 2),η)\n",
    "plt.xlabel(\"Number of partitions k\")\n",
    "# plt.savefig(\"plots/football_graph_eta\")\n",
    "plt.figure()\n",
    "plt.title(\"Modularity Q\")\n",
    "plt.plot(range(1,N), Qs)\n",
    "plt.xlabel(\"Number of partitions k\")\n",
    "# plt.savefig(\"plots/football_graph_Q\")"
   ]
  },
  {
   "cell_type": "code",
   "execution_count": 267,
   "metadata": {
    "collapsed": false
   },
   "outputs": [
    {
     "data": {
      "image/png": "[encoded data removed]",
      "text/plain": [
       "<matplotlib.figure.Figure at 0x10b1fd668>"
      ]
     },
     "metadata": {},
     "output_type": "display_data"
    },
    {
     "data": {
      "image/png": "[encoded data removed]",
      "text/plain": [
       "<matplotlib.figure.Figure at 0x10f203e10>"
      ]
     },
     "metadata": {},
     "output_type": "display_data"
    },
    {
     "data": {
      "image/png": "[encoded data removed]",
      "text/plain": [
       "<matplotlib.figure.Figure at 0x11098abe0>"
      ]
     },
     "metadata": {},
     "output_type": "display_data"
    }
   ],
   "source": [
    "plt.title(\"2 partitions\")\n",
    "draw_graph(partitions[N-2], 2)\n",
    "plt.figure()\n",
    "plt.title(\"3 partitions\")\n",
    "draw_graph(partitions[N-3], 3)\n",
    "plt.figure()\n",
    "plt.title(\"4 partitions\")\n",
    "draw_graph(partitions[N-4], 4)"
   ]
  },
  {
   "cell_type": "code",
   "execution_count": 263,
   "metadata": {
    "collapsed": false
   },
   "outputs": [
    {
     "data": {
      "image/png": "[encoded data removed]",
      "text/plain": [
       "<matplotlib.figure.Figure at 0x10c22dcc0>"
      ]
     },
     "metadata": {},
     "output_type": "display_data"
    },
    {
     "data": {
      "image/png": "[encoded data removed]",
      "text/plain": [
       "<matplotlib.figure.Figure at 0x10b771048>"
      ]
     },
     "metadata": {},
     "output_type": "display_data"
    }
   ],
   "source": [
    "best_num_clusters = np.argmax(η[2:15]) + 2\n",
    "plt.title(\"Best increase ratio = {}\".format(best_num_clusters))\n",
    "draw_graph(partitions[N-best_num_clusters], best_num_clusters)\n",
    "# plt.savefig(\"plots/karate_graph_partition2\")\n",
    "# plt.savefig(filename=\"test.png\", format=\"png\")\n",
    "plt.figure()\n",
    "best_num_clusters_Qs = np.argmax(Qs[1:]) + 2\n",
    "plt.title(\"Best modularity Q = {}\".format(best_num_clusters_Qs))\n",
    "draw_graph(partitions[N-best_num_clusters_Qs], best_num_clusters_Qs)\n",
    "# plt.savefig(\"plots/karate_graph_partition4\")"
   ]
  },
  {
   "cell_type": "code",
   "execution_count": 264,
   "metadata": {
    "collapsed": false
   },
   "outputs": [
    {
     "name": "stdout",
     "output_type": "stream",
     "text": [
      "[8, 9, 10, 11, 12, 13, 14, 15]\n",
      "[0, 1, 2, 3, 4, 5, 6, 7]\n",
      "[]\n",
      "[]\n",
      "[]\n",
      "[]\n",
      "[]\n",
      "[]\n",
      "[]\n",
      "[]\n",
      "[]\n",
      "[]\n"
     ]
    }
   ],
   "source": [
    "for i in range(12):\n",
    "    print(list(np.where(cluster_assignements == i)[0]))"
   ]
  },
  {
   "cell_type": "code",
   "execution_count": 223,
   "metadata": {
    "collapsed": false
   },
   "outputs": [
    {
     "name": "stdout",
     "output_type": "stream",
     "text": [
      "[20, 37, 42, 49, 50, 57, 63, 67, 75]\n",
      "[16, 26, 27, 32, 34, 35, 58, 72, 77, 86, 109]\n",
      "[0, 40, 46, 74, 85, 87, 90, 92, 98, 99]\n",
      "[1, 3, 10, 28, 43, 78, 79, 91, 113]\n",
      "[9, 23, 36, 44, 45, 66, 76, 83, 96, 106, 111, 114]\n",
      "[2, 21, 24, 56, 69, 71, 84, 101]\n",
      "[8, 11, 48, 59, 70, 88, 93, 102, 103]\n",
      "[14, 18, 19, 22, 31, 38, 51, 54, 81, 82, 94, 105]\n",
      "[5, 30, 33, 104, 108, 110]\n",
      "[17, 41, 53, 80, 112]\n",
      "[6, 7, 15, 25, 39, 47, 55, 60, 61, 62, 64, 65, 73, 89]\n",
      "[4, 12, 13, 29, 52, 68, 95, 97, 100, 107]\n"
     ]
    }
   ],
   "source": [
    "for P in (list(partitions[N-12])):\n",
    "    print(sorted(list(P)))"
   ]
  },
  {
   "cell_type": "code",
   "execution_count": 226,
   "metadata": {
    "collapsed": false
   },
   "outputs": [
    {
     "data": {
      "text/plain": [
       "[20, 37, 42, 49, 50, 57, 63, 67, 75]"
      ]
     },
     "execution_count": 226,
     "metadata": {},
     "output_type": "execute_result"
    }
   ],
   "source": [
    "[20, 37, 42, 49, 50, 57, 63, 67, 75]\n",
    "[20, 37, 42, 49, 50, 57, 63, 67, 75]"
   ]
  },
  {
   "cell_type": "code",
   "execution_count": 227,
   "metadata": {
    "collapsed": false
   },
   "outputs": [
    {
     "data": {
      "text/plain": [
       "[4, 12, 13, 29, 52, 68, 95, 97, 100, 107]"
      ]
     },
     "execution_count": 227,
     "metadata": {},
     "output_type": "execute_result"
    }
   ],
   "source": [
    "[12, 13, 29, 52, 68, 95, 100, 107]\n",
    "[4, 12, 13, 29, 52, 68, 95, 97, 100, 107] "
   ]
  },
  {
   "cell_type": "code",
   "execution_count": 228,
   "metadata": {
    "collapsed": false
   },
   "outputs": [
    {
     "data": {
      "text/plain": [
       "[16, 26, 27, 32, 34, 35, 58, 72, 77, 86, 109]"
      ]
     },
     "execution_count": 228,
     "metadata": {},
     "output_type": "execute_result"
    }
   ],
   "source": [
    "[16, 26, 27, 32, 34, 35, 58, 72, 77, 86, 109]\n",
    "[16, 26, 27, 32, 34, 35, 58, 72, 77, 86, 109]"
   ]
  },
  {
   "cell_type": "code",
   "execution_count": 229,
   "metadata": {
    "collapsed": false
   },
   "outputs": [
    {
     "data": {
      "text/plain": [
       "[9, 23, 36, 44, 45, 66, 76, 83, 96, 106, 111, 114]"
      ]
     },
     "execution_count": 229,
     "metadata": {},
     "output_type": "execute_result"
    }
   ],
   "source": [
    "[9, 23, 36, 44, 45, 66, 76, 83, 96, 106, 111, 114]\n",
    "[9, 23, 36, 44, 45, 66, 76, 83, 96, 106, 111, 114]"
   ]
  },
  {
   "cell_type": "code",
   "execution_count": 230,
   "metadata": {
    "collapsed": false
   },
   "outputs": [
    {
     "data": {
      "text/plain": [
       "[8, 11, 48, 59, 70, 88, 93, 102, 103]"
      ]
     },
     "execution_count": 230,
     "metadata": {},
     "output_type": "execute_result"
    }
   ],
   "source": [
    "[8, 11, 48, 59, 70, 88, 91, 93, 102, 103]\n",
    "[8, 11, 48, 59, 70, 88, 93, 102, 103]"
   ]
  },
  {
   "cell_type": "code",
   "execution_count": 244,
   "metadata": {
    "collapsed": false
   },
   "outputs": [
    {
     "data": {
      "text/plain": [
       "[17, 41, 53, 80, 112]"
      ]
     },
     "execution_count": 244,
     "metadata": {},
     "output_type": "execute_result"
    }
   ],
   "source": [
    "[4, 6, 53, 97, 108]\n",
    "[17, 41, 53, 80, 112]"
   ]
  },
  {
   "cell_type": "code",
   "execution_count": 237,
   "metadata": {
    "collapsed": false
   },
   "outputs": [
    {
     "data": {
      "text/plain": [
       "[6, 7, 15, 25, 39, 47, 55, 60, 61, 62, 64, 65, 73, 89]"
      ]
     },
     "execution_count": 237,
     "metadata": {},
     "output_type": "execute_result"
    }
   ],
   "source": [
    "[7, 15, 25, 39, 47, 55, 60, 61, 62, 64, 65, 73, 89]\n",
    "[6, 7, 15, 25, 39, 47, 55, 60, 61, 62, 64, 65, 73, 89]"
   ]
  },
  {
   "cell_type": "code",
   "execution_count": 236,
   "metadata": {
    "collapsed": false
   },
   "outputs": [
    {
     "data": {
      "text/plain": [
       "[2, 21, 24, 56, 69, 71, 84, 101]"
      ]
     },
     "execution_count": 236,
     "metadata": {},
     "output_type": "execute_result"
    }
   ],
   "source": [
    "[2, 21, 24, 56, 69, 71, 84, 101]\n",
    "[2, 21, 24, 56, 69, 71, 84, 101]"
   ]
  },
  {
   "cell_type": "code",
   "execution_count": 238,
   "metadata": {
    "collapsed": false
   },
   "outputs": [
    {
     "data": {
      "text/plain": [
       "[0, 40, 46, 74, 85, 87, 90, 92, 98, 99]"
      ]
     },
     "execution_count": 238,
     "metadata": {},
     "output_type": "execute_result"
    }
   ],
   "source": [
    "[0, 40, 46, 74, 85, 87, 90, 92, 98, 99]\n",
    "[0, 40, 46, 74, 85, 87, 90, 92, 98, 99]"
   ]
  },
  {
   "cell_type": "code",
   "execution_count": 239,
   "metadata": {
    "collapsed": false
   },
   "outputs": [
    {
     "data": {
      "text/plain": [
       "[14, 18, 19, 22, 31, 38, 51, 54, 81, 82, 94, 105]"
      ]
     },
     "execution_count": 239,
     "metadata": {},
     "output_type": "execute_result"
    }
   ],
   "source": [
    "[14, 18, 19, 22, 31, 38, 51, 54, 81, 82, 94, 105]\n",
    "[14, 18, 19, 22, 31, 38, 51, 54, 81, 82, 94, 105]"
   ]
  },
  {
   "cell_type": "code",
   "execution_count": 240,
   "metadata": {
    "collapsed": false
   },
   "outputs": [
    {
     "data": {
      "text/plain": [
       "[5, 17, 30, 33, 41, 104, 112]"
      ]
     },
     "execution_count": 240,
     "metadata": {},
     "output_type": "execute_result"
    }
   ],
   "source": [
    "[5, 17, 30, 33, 41, 104, 112]\n",
    "[5, 30, 33, 104, 108, 110]"
   ]
  },
  {
   "cell_type": "code",
   "execution_count": 243,
   "metadata": {
    "collapsed": false
   },
   "outputs": [
    {
     "data": {
      "text/plain": [
       "[1, 3, 10, 28, 43, 78, 79, 91, 113]"
      ]
     },
     "execution_count": 243,
     "metadata": {},
     "output_type": "execute_result"
    }
   ],
   "source": [
    "[1, 3, 10, 28, 43, 78, 79, 80, 110, 113]\n",
    "[1, 3, 10, 28, 43, 78, 79, 91, 113]"
   ]
  },
  {
   "cell_type": "code",
   "execution_count": 245,
   "metadata": {
    "collapsed": false
   },
   "outputs": [
    {
     "name": "stdout",
     "output_type": "stream",
     "text": [
      "115\n"
     ]
    }
   ],
   "source": [
    "print(N)\n"
   ]
  },
  {
   "cell_type": "code",
   "execution_count": null,
   "metadata": {
    "collapsed": true
   },
   "outputs": [],
   "source": []
  }
 ],
 "metadata": {
  "anaconda-cloud": {},
  "kernelspec": {
   "display_name": "Python [conda env:python3]",
   "language": "python",
   "name": "conda-env-python3-py"
  },
  "language_info": {
   "codemirror_mode": {
    "name": "ipython",
    "version": 3
   },
   "file_extension": ".py",
   "mimetype": "text/x-python",
   "name": "python",
   "nbconvert_exporter": "python",
   "pygments_lexer": "ipython3",
   "version": "3.5.2"
  },
  "toc": {
   "nav_menu": {},
   "number_sections": true,
   "sideBar": true,
   "skip_h1_title": false,
   "toc_cell": false,
   "toc_position": {},
   "toc_section_display": "block",
   "toc_window_display": false
  }
 },
 "nbformat": 4,
 "nbformat_minor": 2
}
