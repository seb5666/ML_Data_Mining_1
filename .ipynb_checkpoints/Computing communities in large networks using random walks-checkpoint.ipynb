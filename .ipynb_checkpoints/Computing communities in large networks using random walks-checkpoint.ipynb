{
 "cells": [
  {
   "cell_type": "markdown",
   "metadata": {},
   "source": [
    "# Computing communities in large networks using random walks"
   ]
  },
  {
   "cell_type": "markdown",
   "metadata": {},
   "source": [
    "## Generate random graph with two communities"
   ]
  },
  {
   "cell_type": "code",
   "execution_count": 307,
   "metadata": {
    "collapsed": true
   },
   "outputs": [],
   "source": [
    "import numpy as np\n",
    "import networkx as nx\n",
    "import matplotlib.pyplot as plt\n",
    "from scipy.cluster.hierarchy import dendrogram\n",
    "%matplotlib inline"
   ]
  },
  {
   "cell_type": "code",
   "execution_count": 446,
   "metadata": {
    "collapsed": false
   },
   "outputs": [],
   "source": [
    "# Setup the graph, with n vertices\n",
    "N = 20\n",
    "num_clusters = 3\n",
    "A = np.eye(N, dtype=int)\n",
    "p_edge = 0.9"
   ]
  },
  {
   "cell_type": "code",
   "execution_count": 447,
   "metadata": {
    "collapsed": false
   },
   "outputs": [
    {
     "name": "stdout",
     "output_type": "stream",
     "text": [
      "[0 1 2 0 1 1 1 0 1 1 2 1 0 0 2 0 1 1 0 1]\n"
     ]
    }
   ],
   "source": [
    "#assign clusters to edges\n",
    "cluster_assignements = np.random.randint(num_clusters, size=N)\n",
    "print(cluster_assignements)"
   ]
  },
  {
   "cell_type": "code",
   "execution_count": 448,
   "metadata": {
    "collapsed": false
   },
   "outputs": [],
   "source": [
    "# create random edges\n",
    "for i in range(N):\n",
    "    for j in range(i, N):\n",
    "        p = p_edge if cluster_assignements[i] == cluster_assignements[j] else (1 - p_edge)\n",
    "        A[i,j] = max(A[i,j], p > np.random.rand())\n",
    "        A[j,i] = A[i,j]"
   ]
  },
  {
   "cell_type": "code",
   "execution_count": 372,
   "metadata": {
    "collapsed": true
   },
   "outputs": [],
   "source": [
    "# Use example from the paper instead\n",
    "N = 16\n",
    "num_clusters = 2\n",
    "A = np.eye(N, dtype=int)\n",
    "cluster_assignements = np.array([1,1,1,1,1,1,1,1,0,0,0,0,0,0,0,0])\n",
    "edges = [\n",
    "    (0,4),\n",
    "    (0,6),\n",
    "    (1,2),\n",
    "    (1,3),\n",
    "    (1,4),\n",
    "    (1,8),\n",
    "    (2,3),\n",
    "    (2,4),\n",
    "    (2,5),\n",
    "    (2,7),\n",
    "    (3,6),\n",
    "    (4,5),\n",
    "    (5,6),\n",
    "    (5,9),\n",
    "    (6,7),\n",
    "    (7,9),\n",
    "    (8,9),\n",
    "    (8,10),\n",
    "    (8,11),\n",
    "    (8,12),\n",
    "    (8,14),\n",
    "    (9,10),\n",
    "    (9,14),\n",
    "    (11,13),\n",
    "    (12,13),\n",
    "    (12,14),\n",
    "    (13,14),\n",
    "    (14,15)\n",
    "]\n",
    "for (i,j) in edges:\n",
    "    A[i,j] = 1\n",
    "    A[j,i] = 1"
   ]
  },
  {
   "cell_type": "code",
   "execution_count": 449,
   "metadata": {
    "collapsed": false
   },
   "outputs": [
    {
     "name": "stdout",
     "output_type": "stream",
     "text": [
      "Num edges: 84.0\n"
     ]
    }
   ],
   "source": [
    "#compute the number of edges\n",
    "M = (np.sum(A) + N) / 2\n",
    "print(\"Num edges: {}\".format(M))"
   ]
  },
  {
   "cell_type": "code",
   "execution_count": 450,
   "metadata": {
    "collapsed": false
   },
   "outputs": [
    {
     "name": "stdout",
     "output_type": "stream",
     "text": [
      "[[0, 3, 7, 12, 13, 15, 18], [1, 4, 5, 6, 8, 9, 11, 16, 17, 19], [2, 10, 14]]\n"
     ]
    }
   ],
   "source": [
    "cluster_nodes = [list(np.where(cluster_assignements == i)[0]) for i in range(num_clusters)]\n",
    "print(cluster_nodes)"
   ]
  },
  {
   "cell_type": "code",
   "execution_count": 473,
   "metadata": {
    "collapsed": false
   },
   "outputs": [
    {
     "ename": "ValueError",
     "evalue": "Cannot convert argument type <class 'int'> to rgba array",
     "output_type": "error",
     "traceback": [
      "\u001b[0;31m---------------------------------------------------------------------------\u001b[0m",
      "\u001b[0;31mTypeError\u001b[0m                                 Traceback (most recent call last)",
      "\u001b[0;32m~/anaconda/envs/python3/lib/python3.5/site-packages/matplotlib/colors.py\u001b[0m in \u001b[0;36mto_rgba_array\u001b[0;34m(self, c, alpha)\u001b[0m\n\u001b[1;32m    387\u001b[0m         \u001b[0;32mtry\u001b[0m\u001b[0;34m:\u001b[0m\u001b[0;34m\u001b[0m\u001b[0m\n\u001b[0;32m--> 388\u001b[0;31m             \u001b[0mnc\u001b[0m \u001b[0;34m=\u001b[0m \u001b[0mlen\u001b[0m\u001b[0;34m(\u001b[0m\u001b[0mc\u001b[0m\u001b[0;34m)\u001b[0m\u001b[0;34m\u001b[0m\u001b[0m\n\u001b[0m\u001b[1;32m    389\u001b[0m         \u001b[0;32mexcept\u001b[0m \u001b[0mTypeError\u001b[0m\u001b[0;34m:\u001b[0m\u001b[0;34m\u001b[0m\u001b[0m\n",
      "\u001b[0;31mTypeError\u001b[0m: object of type 'int' has no len()",
      "\nDuring handling of the above exception, another exception occurred:\n",
      "\u001b[0;31mValueError\u001b[0m                                Traceback (most recent call last)",
      "\u001b[0;32m<ipython-input-473-758379b54076>\u001b[0m in \u001b[0;36m<module>\u001b[0;34m()\u001b[0m\n\u001b[1;32m      9\u001b[0m     \u001b[0mnx\u001b[0m\u001b[0;34m.\u001b[0m\u001b[0mdraw_networkx_edges\u001b[0m\u001b[0;34m(\u001b[0m\u001b[0mG\u001b[0m\u001b[0;34m,\u001b[0m \u001b[0mpos\u001b[0m\u001b[0;34m,\u001b[0m \u001b[0mwidth\u001b[0m\u001b[0;34m=\u001b[0m\u001b[0;36m0.5\u001b[0m\u001b[0;34m)\u001b[0m\u001b[0;34m\u001b[0m\u001b[0m\n\u001b[1;32m     10\u001b[0m     \u001b[0mnx\u001b[0m\u001b[0;34m.\u001b[0m\u001b[0mdraw_networkx_labels\u001b[0m\u001b[0;34m(\u001b[0m\u001b[0mG\u001b[0m\u001b[0;34m,\u001b[0m \u001b[0mpos\u001b[0m\u001b[0;34m,\u001b[0m \u001b[0;34m{\u001b[0m\u001b[0mi\u001b[0m\u001b[0;34m:\u001b[0m\u001b[0mi\u001b[0m \u001b[0;32mfor\u001b[0m \u001b[0mi\u001b[0m \u001b[0;32min\u001b[0m \u001b[0mrange\u001b[0m\u001b[0;34m(\u001b[0m\u001b[0mN\u001b[0m\u001b[0;34m)\u001b[0m\u001b[0;34m}\u001b[0m\u001b[0;34m)\u001b[0m\u001b[0;34m\u001b[0m\u001b[0m\n\u001b[0;32m---> 11\u001b[0;31m \u001b[0mdraw_graph\u001b[0m\u001b[0;34m(\u001b[0m\u001b[0mcluster_nodes\u001b[0m\u001b[0;34m,\u001b[0m \u001b[0mnum_clusters\u001b[0m\u001b[0;34m)\u001b[0m\u001b[0;34m\u001b[0m\u001b[0m\n\u001b[0m",
      "\u001b[0;32m<ipython-input-473-758379b54076>\u001b[0m in \u001b[0;36mdraw_graph\u001b[0;34m(clusters, num_clusters)\u001b[0m\n\u001b[1;32m      5\u001b[0m     \u001b[0mpos\u001b[0m \u001b[0;34m=\u001b[0m \u001b[0mnx\u001b[0m\u001b[0;34m.\u001b[0m\u001b[0mspring_layout\u001b[0m\u001b[0;34m(\u001b[0m\u001b[0mG\u001b[0m\u001b[0;34m)\u001b[0m\u001b[0;34m\u001b[0m\u001b[0m\n\u001b[1;32m      6\u001b[0m     \u001b[0;32mfor\u001b[0m \u001b[0mi\u001b[0m \u001b[0;32min\u001b[0m \u001b[0mrange\u001b[0m\u001b[0;34m(\u001b[0m\u001b[0mnum_clusters\u001b[0m\u001b[0;34m)\u001b[0m\u001b[0;34m:\u001b[0m\u001b[0;34m\u001b[0m\u001b[0m\n\u001b[0;32m----> 7\u001b[0;31m         \u001b[0mnx\u001b[0m\u001b[0;34m.\u001b[0m\u001b[0mdraw_networkx_nodes\u001b[0m\u001b[0;34m(\u001b[0m\u001b[0mG\u001b[0m\u001b[0;34m,\u001b[0m \u001b[0mpos\u001b[0m\u001b[0;34m,\u001b[0m \u001b[0mnodelist\u001b[0m\u001b[0;34m=\u001b[0m\u001b[0mclusters\u001b[0m\u001b[0;34m[\u001b[0m\u001b[0mi\u001b[0m\u001b[0;34m]\u001b[0m\u001b[0;34m,\u001b[0m \u001b[0mnode_color\u001b[0m\u001b[0;34m=\u001b[0m\u001b[0mcolors\u001b[0m\u001b[0;34m[\u001b[0m\u001b[0mi\u001b[0m\u001b[0;34m]\u001b[0m\u001b[0;34m,\u001b[0m \u001b[0mnode_size\u001b[0m\u001b[0;34m=\u001b[0m\u001b[0;36m500\u001b[0m\u001b[0;34m,\u001b[0m \u001b[0malpha\u001b[0m\u001b[0;34m=\u001b[0m\u001b[0;36m1\u001b[0m\u001b[0;34m)\u001b[0m\u001b[0;34m\u001b[0m\u001b[0m\n\u001b[0m\u001b[1;32m      8\u001b[0m     \u001b[0;31m# nx.draw_networkx_nodes(G, pos, nodelist=cluster2_nodes, node_color='g', node_size=500, alpha=1)\u001b[0m\u001b[0;34m\u001b[0m\u001b[0;34m\u001b[0m\u001b[0m\n\u001b[1;32m      9\u001b[0m     \u001b[0mnx\u001b[0m\u001b[0;34m.\u001b[0m\u001b[0mdraw_networkx_edges\u001b[0m\u001b[0;34m(\u001b[0m\u001b[0mG\u001b[0m\u001b[0;34m,\u001b[0m \u001b[0mpos\u001b[0m\u001b[0;34m,\u001b[0m \u001b[0mwidth\u001b[0m\u001b[0;34m=\u001b[0m\u001b[0;36m0.5\u001b[0m\u001b[0;34m)\u001b[0m\u001b[0;34m\u001b[0m\u001b[0m\n",
      "\u001b[0;32m~/anaconda/envs/python3/lib/python3.5/site-packages/networkx/drawing/nx_pylab.py\u001b[0m in \u001b[0;36mdraw_networkx_nodes\u001b[0;34m(G, pos, nodelist, node_size, node_color, node_shape, alpha, cmap, vmin, vmax, ax, linewidths, label, **kwds)\u001b[0m\n\u001b[1;32m    398\u001b[0m                                  \u001b[0malpha\u001b[0m\u001b[0;34m=\u001b[0m\u001b[0malpha\u001b[0m\u001b[0;34m,\u001b[0m\u001b[0;34m\u001b[0m\u001b[0m\n\u001b[1;32m    399\u001b[0m                                  \u001b[0mlinewidths\u001b[0m\u001b[0;34m=\u001b[0m\u001b[0mlinewidths\u001b[0m\u001b[0;34m,\u001b[0m\u001b[0;34m\u001b[0m\u001b[0m\n\u001b[0;32m--> 400\u001b[0;31m                                  label=label)\n\u001b[0m\u001b[1;32m    401\u001b[0m \u001b[0;34m\u001b[0m\u001b[0m\n\u001b[1;32m    402\u001b[0m     \u001b[0mnode_collection\u001b[0m\u001b[0;34m.\u001b[0m\u001b[0mset_zorder\u001b[0m\u001b[0;34m(\u001b[0m\u001b[0;36m2\u001b[0m\u001b[0;34m)\u001b[0m\u001b[0;34m\u001b[0m\u001b[0m\n",
      "\u001b[0;32m~/anaconda/envs/python3/lib/python3.5/site-packages/matplotlib/__init__.py\u001b[0m in \u001b[0;36minner\u001b[0;34m(ax, *args, **kwargs)\u001b[0m\n\u001b[1;32m   1817\u001b[0m                     warnings.warn(msg % (label_namer, func.__name__),\n\u001b[1;32m   1818\u001b[0m                                   RuntimeWarning, stacklevel=2)\n\u001b[0;32m-> 1819\u001b[0;31m             \u001b[0;32mreturn\u001b[0m \u001b[0mfunc\u001b[0m\u001b[0;34m(\u001b[0m\u001b[0max\u001b[0m\u001b[0;34m,\u001b[0m \u001b[0;34m*\u001b[0m\u001b[0margs\u001b[0m\u001b[0;34m,\u001b[0m \u001b[0;34m**\u001b[0m\u001b[0mkwargs\u001b[0m\u001b[0;34m)\u001b[0m\u001b[0;34m\u001b[0m\u001b[0m\n\u001b[0m\u001b[1;32m   1820\u001b[0m         \u001b[0mpre_doc\u001b[0m \u001b[0;34m=\u001b[0m \u001b[0minner\u001b[0m\u001b[0;34m.\u001b[0m\u001b[0m__doc__\u001b[0m\u001b[0;34m\u001b[0m\u001b[0m\n\u001b[1;32m   1821\u001b[0m         \u001b[0;32mif\u001b[0m \u001b[0mpre_doc\u001b[0m \u001b[0;32mis\u001b[0m \u001b[0;32mNone\u001b[0m\u001b[0;34m:\u001b[0m\u001b[0;34m\u001b[0m\u001b[0m\n",
      "\u001b[0;32m~/anaconda/envs/python3/lib/python3.5/site-packages/matplotlib/axes/_axes.py\u001b[0m in \u001b[0;36mscatter\u001b[0;34m(self, x, y, s, c, marker, cmap, norm, vmin, vmax, alpha, linewidths, verts, edgecolors, **kwargs)\u001b[0m\n\u001b[1;32m   3864\u001b[0m                 \u001b[0moffsets\u001b[0m\u001b[0;34m=\u001b[0m\u001b[0moffsets\u001b[0m\u001b[0;34m,\u001b[0m\u001b[0;34m\u001b[0m\u001b[0m\n\u001b[1;32m   3865\u001b[0m                 \u001b[0mtransOffset\u001b[0m\u001b[0;34m=\u001b[0m\u001b[0mkwargs\u001b[0m\u001b[0;34m.\u001b[0m\u001b[0mpop\u001b[0m\u001b[0;34m(\u001b[0m\u001b[0;34m'transform'\u001b[0m\u001b[0;34m,\u001b[0m \u001b[0mself\u001b[0m\u001b[0;34m.\u001b[0m\u001b[0mtransData\u001b[0m\u001b[0;34m)\u001b[0m\u001b[0;34m,\u001b[0m\u001b[0;34m\u001b[0m\u001b[0m\n\u001b[0;32m-> 3866\u001b[0;31m                 \u001b[0malpha\u001b[0m\u001b[0;34m=\u001b[0m\u001b[0malpha\u001b[0m\u001b[0;34m\u001b[0m\u001b[0m\n\u001b[0m\u001b[1;32m   3867\u001b[0m                 )\n\u001b[1;32m   3868\u001b[0m         \u001b[0mcollection\u001b[0m\u001b[0;34m.\u001b[0m\u001b[0mset_transform\u001b[0m\u001b[0;34m(\u001b[0m\u001b[0mmtransforms\u001b[0m\u001b[0;34m.\u001b[0m\u001b[0mIdentityTransform\u001b[0m\u001b[0;34m(\u001b[0m\u001b[0;34m)\u001b[0m\u001b[0;34m)\u001b[0m\u001b[0;34m\u001b[0m\u001b[0m\n",
      "\u001b[0;32m~/anaconda/envs/python3/lib/python3.5/site-packages/matplotlib/collections.py\u001b[0m in \u001b[0;36m__init__\u001b[0;34m(self, paths, sizes, **kwargs)\u001b[0m\n\u001b[1;32m    829\u001b[0m         \"\"\"\n\u001b[1;32m    830\u001b[0m \u001b[0;34m\u001b[0m\u001b[0m\n\u001b[0;32m--> 831\u001b[0;31m         \u001b[0mCollection\u001b[0m\u001b[0;34m.\u001b[0m\u001b[0m__init__\u001b[0m\u001b[0;34m(\u001b[0m\u001b[0mself\u001b[0m\u001b[0;34m,\u001b[0m \u001b[0;34m**\u001b[0m\u001b[0mkwargs\u001b[0m\u001b[0;34m)\u001b[0m\u001b[0;34m\u001b[0m\u001b[0m\n\u001b[0m\u001b[1;32m    832\u001b[0m         \u001b[0mself\u001b[0m\u001b[0;34m.\u001b[0m\u001b[0mset_paths\u001b[0m\u001b[0;34m(\u001b[0m\u001b[0mpaths\u001b[0m\u001b[0;34m)\u001b[0m\u001b[0;34m\u001b[0m\u001b[0m\n\u001b[1;32m    833\u001b[0m         \u001b[0mself\u001b[0m\u001b[0;34m.\u001b[0m\u001b[0mset_sizes\u001b[0m\u001b[0;34m(\u001b[0m\u001b[0msizes\u001b[0m\u001b[0;34m)\u001b[0m\u001b[0;34m\u001b[0m\u001b[0m\n",
      "\u001b[0;32m~/anaconda/envs/python3/lib/python3.5/site-packages/matplotlib/collections.py\u001b[0m in \u001b[0;36m__init__\u001b[0;34m(self, edgecolors, facecolors, linewidths, linestyles, antialiaseds, offsets, transOffset, norm, cmap, pickradius, hatch, urls, offset_position, zorder, **kwargs)\u001b[0m\n\u001b[1;32m    115\u001b[0m \u001b[0;34m\u001b[0m\u001b[0m\n\u001b[1;32m    116\u001b[0m         \u001b[0mself\u001b[0m\u001b[0;34m.\u001b[0m\u001b[0mset_edgecolor\u001b[0m\u001b[0;34m(\u001b[0m\u001b[0medgecolors\u001b[0m\u001b[0;34m)\u001b[0m\u001b[0;34m\u001b[0m\u001b[0m\n\u001b[0;32m--> 117\u001b[0;31m         \u001b[0mself\u001b[0m\u001b[0;34m.\u001b[0m\u001b[0mset_facecolor\u001b[0m\u001b[0;34m(\u001b[0m\u001b[0mfacecolors\u001b[0m\u001b[0;34m)\u001b[0m\u001b[0;34m\u001b[0m\u001b[0m\n\u001b[0m\u001b[1;32m    118\u001b[0m         \u001b[0mself\u001b[0m\u001b[0;34m.\u001b[0m\u001b[0mset_linewidth\u001b[0m\u001b[0;34m(\u001b[0m\u001b[0mlinewidths\u001b[0m\u001b[0;34m)\u001b[0m\u001b[0;34m\u001b[0m\u001b[0m\n\u001b[1;32m    119\u001b[0m         \u001b[0mself\u001b[0m\u001b[0;34m.\u001b[0m\u001b[0mset_linestyle\u001b[0m\u001b[0;34m(\u001b[0m\u001b[0mlinestyles\u001b[0m\u001b[0;34m)\u001b[0m\u001b[0;34m\u001b[0m\u001b[0m\n",
      "\u001b[0;32m~/anaconda/envs/python3/lib/python3.5/site-packages/matplotlib/collections.py\u001b[0m in \u001b[0;36mset_facecolor\u001b[0;34m(self, c)\u001b[0m\n\u001b[1;32m    610\u001b[0m             \u001b[0mc\u001b[0m \u001b[0;34m=\u001b[0m \u001b[0mmpl\u001b[0m\u001b[0;34m.\u001b[0m\u001b[0mrcParams\u001b[0m\u001b[0;34m[\u001b[0m\u001b[0;34m'patch.facecolor'\u001b[0m\u001b[0;34m]\u001b[0m\u001b[0;34m\u001b[0m\u001b[0m\n\u001b[1;32m    611\u001b[0m         \u001b[0mself\u001b[0m\u001b[0;34m.\u001b[0m\u001b[0m_facecolors_original\u001b[0m \u001b[0;34m=\u001b[0m \u001b[0mc\u001b[0m\u001b[0;34m\u001b[0m\u001b[0m\n\u001b[0;32m--> 612\u001b[0;31m         \u001b[0mself\u001b[0m\u001b[0;34m.\u001b[0m\u001b[0m_facecolors\u001b[0m \u001b[0;34m=\u001b[0m \u001b[0mmcolors\u001b[0m\u001b[0;34m.\u001b[0m\u001b[0mcolorConverter\u001b[0m\u001b[0;34m.\u001b[0m\u001b[0mto_rgba_array\u001b[0m\u001b[0;34m(\u001b[0m\u001b[0mc\u001b[0m\u001b[0;34m,\u001b[0m \u001b[0mself\u001b[0m\u001b[0;34m.\u001b[0m\u001b[0m_alpha\u001b[0m\u001b[0;34m)\u001b[0m\u001b[0;34m\u001b[0m\u001b[0m\n\u001b[0m\u001b[1;32m    613\u001b[0m         \u001b[0mself\u001b[0m\u001b[0;34m.\u001b[0m\u001b[0mstale\u001b[0m \u001b[0;34m=\u001b[0m \u001b[0;32mTrue\u001b[0m\u001b[0;34m\u001b[0m\u001b[0m\n\u001b[1;32m    614\u001b[0m \u001b[0;34m\u001b[0m\u001b[0m\n",
      "\u001b[0;32m~/anaconda/envs/python3/lib/python3.5/site-packages/matplotlib/colors.py\u001b[0m in \u001b[0;36mto_rgba_array\u001b[0;34m(self, c, alpha)\u001b[0m\n\u001b[1;32m    389\u001b[0m         \u001b[0;32mexcept\u001b[0m \u001b[0mTypeError\u001b[0m\u001b[0;34m:\u001b[0m\u001b[0;34m\u001b[0m\u001b[0m\n\u001b[1;32m    390\u001b[0m             raise ValueError(\n\u001b[0;32m--> 391\u001b[0;31m                 \"Cannot convert argument type %s to rgba array\" % type(c))\n\u001b[0m\u001b[1;32m    392\u001b[0m         \u001b[0;32mtry\u001b[0m\u001b[0;34m:\u001b[0m\u001b[0;34m\u001b[0m\u001b[0m\n\u001b[1;32m    393\u001b[0m             \u001b[0;32mif\u001b[0m \u001b[0mnc\u001b[0m \u001b[0;34m==\u001b[0m \u001b[0;36m0\u001b[0m \u001b[0;32mor\u001b[0m \u001b[0mc\u001b[0m\u001b[0;34m.\u001b[0m\u001b[0mlower\u001b[0m\u001b[0;34m(\u001b[0m\u001b[0;34m)\u001b[0m \u001b[0;34m==\u001b[0m \u001b[0;34m'none'\u001b[0m\u001b[0;34m:\u001b[0m\u001b[0;34m\u001b[0m\u001b[0m\n",
      "\u001b[0;31mValueError\u001b[0m: Cannot convert argument type <class 'int'> to rgba array"
     ]
    },
    {
     "data": {
      "image/png": "[encoded data removed]",
      "text/plain": [
       "<matplotlib.figure.Figure at 0x10f0c4ba8>"
      ]
     },
     "metadata": {},
     "output_type": "display_data"
    }
   ],
   "source": [
    "#draw the graph\n",
    "def draw_graph(clusters, num_clusters):\n",
    "    colors = ['r', 'g', 'b', 'y']\n",
    "    G = nx.from_numpy_matrix(A)\n",
    "    pos = nx.spring_layout(G)\n",
    "    for i in range(num_clusters):\n",
    "        nx.draw_networkx_nodes(G, pos, nodelist=clusters[i], node_color=colors[i], node_size=500, alpha=1)\n",
    "    # nx.draw_networkx_nodes(G, pos, nodelist=cluster2_nodes, node_color='g', node_size=500, alpha=1)\n",
    "    nx.draw_networkx_edges(G, pos, width=0.5)\n",
    "    nx.draw_networkx_labels(G, pos, {i:i for i in range(N)})\n",
    "draw_graph(cluster_nodes, num_clusters)"
   ]
  },
  {
   "cell_type": "markdown",
   "metadata": {},
   "source": [
    "## Computing distances"
   ]
  },
  {
   "cell_type": "markdown",
   "metadata": {},
   "source": [
    "### Helper functions"
   ]
  },
  {
   "cell_type": "code",
   "execution_count": 452,
   "metadata": {
    "collapsed": false
   },
   "outputs": [],
   "source": [
    "degrees = np.sum(A, axis=1)\n",
    "D_inv = np.diag(1/degrees)\n",
    "def distance(P_i, P_j):\n",
    "    return np.sqrt(np.sum(((P_i - P_j) ** 2) / degrees))\n",
    "\n",
    "def distance2(P_i, P_j):\n",
    "    return np.sqrt(np.sum((np.dot(D_inv/2, P_i) - np.dot(D_inv/2, P_j)) ** 2))\n",
    "\n",
    "def Δσ(l1, P_1, l2, P_2):\n",
    "    return 1 / N * l1 * l2 / (l1 + l2) * (distance(P_1,P_2) ** 2)"
   ]
  },
  {
   "cell_type": "code",
   "execution_count": 453,
   "metadata": {
    "collapsed": true
   },
   "outputs": [],
   "source": [
    "#find the two clusters C1 and C2 with the smallest Δσ(C1, C2)\n",
    "def find_to_merge(clusters):\n",
    "    # find minimum Δσ for two clusters\n",
    "    min_Δσ = None\n",
    "    to_merge = []\n",
    "    for i, cluster in clusters.items():\n",
    "        for j, dist in cluster['neighbours'].items():\n",
    "            if min_Δσ == None or dist < min_Δσ:\n",
    "                min_Δσ = dist\n",
    "                to_merge = [(i, j)]\n",
    "            elif (dist == min_Δσ):\n",
    "                to_merge.append((i,j))\n",
    "    return (to_merge[0][0], to_merge[0][1], min_Δσ)"
   ]
  },
  {
   "cell_type": "code",
   "execution_count": 454,
   "metadata": {
    "collapsed": true
   },
   "outputs": [],
   "source": [
    "# Given clusters, merge C1 and C2 into a new cluster with id new_id\n",
    "def merge_clusters(C1, C2, clusters, new_id):\n",
    "    l1 = len(C1['nodes'])\n",
    "    l2 = len(C2['nodes'])\n",
    "    # Create new Cluster, merging C1 and C2\n",
    "    new_nodes = C1['nodes'].union(C2['nodes'])\n",
    "    new_neighbours = set(C1['neighbours'].keys()).union(set(C2['neighbours'].keys()))\n",
    "    new_neighbours.remove(i)\n",
    "    new_neighbours.remove(j)\n",
    "    \n",
    "    #compute the P_t for the new cluster\n",
    "    new_P_t = (l1 * C1['P_t'] + l2 * C2['P_t']) / (l1 + l2)\n",
    "    \n",
    "    #compute new_P_t manually, sanity check\n",
    "    new_P_t2 = np.zeros(N)\n",
    "    for node in new_nodes:\n",
    "        new_P_t2 += P_t[node]\n",
    "    new_P_t2 /= len(new_nodes)\n",
    "\n",
    "    assert(np.allclose(new_P_t, new_P_t2))\n",
    "    \n",
    "    # Compute Δσ's for the new cluster\n",
    "    neighbours = {}\n",
    "    for n in new_neighbours:\n",
    "        C = clusters[n]\n",
    "        l3 = len(C['nodes'])\n",
    "        if n in C1['neighbours'].keys() and n in C2['neighbours'].keys():\n",
    "            #apply Theorem 4\n",
    "            x_A = (l1 + l3) * C1['neighbours'][n]\n",
    "            x_B = (l2 + l3) * C2['neighbours'][n]\n",
    "            x_C = (l3) * C1['neighbours'][j]\n",
    "            new_Δσ = (x_A + x_B - x_C) / (l1 + l2 + l3)\n",
    "            new_Δσ2 = Δσ(l1+l2, new_P_t, l3, C['P_t'])\n",
    "            assert(np.isclose(new_Δσ, new_Δσ2))\n",
    "        else:\n",
    "            #apply Theorem 3\n",
    "            new_Δσ = Δσ(l1+l2, new_P_t, l3, C['P_t'])\n",
    "    #       new_Δσ2 = (l1 + l2) * l3  * (distance(new_P_t, C['P_t']) ** 2) / N / (l1 + l2 + l3)\n",
    "    #       assert(np.isclose(new_Δσ, new_Δσ2))\n",
    "        \n",
    "        neighbours[n] = new_Δσ\n",
    "        C['neighbours'].pop(i, None)\n",
    "        C['neighbours'].pop(j, None)\n",
    "        C['neighbours'][new_id] = new_Δσ\n",
    "    \n",
    "    new_cluster = {\n",
    "        'nodes': new_nodes,\n",
    "        'neighbours': neighbours,\n",
    "        'P_t': new_P_t\n",
    "    }\n",
    "    \n",
    "    return new_cluster"
   ]
  },
  {
   "cell_type": "code",
   "execution_count": 455,
   "metadata": {
    "collapsed": true
   },
   "outputs": [],
   "source": [
    "# Compute the modularity of a given clustering\n",
    "def modularity(clusters):\n",
    "    def edge_fraction(C1, C2):\n",
    "        sum = 0\n",
    "        for i in C1['nodes']:\n",
    "            for j in C2['nodes']:\n",
    "                if (A[i,j] == 1):\n",
    "                    sum += 1\n",
    "        return sum / M\n",
    "    def edges_bound(C1):\n",
    "        sum = 0\n",
    "        for C in clusters.values():\n",
    "            sum += edge_fraction(C1, C)\n",
    "        return sum\n",
    "    \n",
    "    modularity = 0.0\n",
    "    for C in clusters.values():\n",
    "        modularity += edge_fraction(C,C) - (edges_bound(C)**2)\n",
    "    return modularity"
   ]
  },
  {
   "cell_type": "code",
   "execution_count": 456,
   "metadata": {
    "collapsed": true
   },
   "outputs": [],
   "source": [
    "def partition(clusters):\n",
    "    return [list(C['nodes']) for C in clusters.values()]"
   ]
  },
  {
   "cell_type": "markdown",
   "metadata": {},
   "source": [
    "### Create partitions"
   ]
  },
  {
   "cell_type": "code",
   "execution_count": 457,
   "metadata": {
    "collapsed": false
   },
   "outputs": [],
   "source": [
    "# Create transition matrix\n",
    "np.set_printoptions(precision=4)\n",
    "P = np.dot(D_inv, A)"
   ]
  },
  {
   "cell_type": "code",
   "execution_count": 458,
   "metadata": {
    "collapsed": false
   },
   "outputs": [],
   "source": [
    "#Compute probability vectors\n",
    "t = 3\n",
    "P_t = np.eye(N)\n",
    "for i in range(t):\n",
    "    P_t = np.dot(P, P_t)"
   ]
  },
  {
   "cell_type": "code",
   "execution_count": 459,
   "metadata": {
    "collapsed": false
   },
   "outputs": [
    {
     "name": "stdout",
     "output_type": "stream",
     "text": [
      "Qs: [0.064625850340136043, 0.074546485260770984, 0.071145124716553279, 0.076814058956916106, 0.092120181405895701, 0.11139455782312926, 0.10147392290249441, 0.10260770975056691, 0.095804988662131566, 0.12358276643990931, 0.12698412698412695, 0.18679138321995464, 0.13917233560090703, 0.14710884353741518, 0.18565759637188228, 0.098922902494331166, 0.13803854875283456, -0.1238662131519277, -1.3424036281179137]\n",
      "Δσs: [0.0, 0.0, 1.3172433142569986e-07, 3.2895771240634252e-07, 8.6001151160771751e-07, 8.7388860512143686e-07, 1.3326678186158507e-06, 2.0916376347366615e-06, 2.3037501630136186e-06, 2.5357925770863101e-06, 3.0842760651420116e-06, 7.9837751630485141e-06, 2.2538453655337417e-05, 2.4352100233262638e-05, 3.4474648016635824e-05, 4.3059302814550509e-05, 0.00012236720108836505, 0.002197528595014246, 0.0041228429944322863]\n"
     ]
    }
   ],
   "source": [
    "#create initial clusters\n",
    "A2 = A - np.eye(N)\n",
    "clusters = {}\n",
    "for i in range(N):\n",
    "    nodes = {i}\n",
    "    neighbours = {}\n",
    "    for j in range(N):\n",
    "        if A[i,j] and i != j:\n",
    "            neighbours[j] = Δσ(1, P_t[i], 1, P_t[j])\n",
    "    clusters[i] = {\n",
    "        'nodes': nodes,\n",
    "        'P_t': P_t[i],\n",
    "        'neighbours': neighbours\n",
    "    }\n",
    "# merge clusters repeatedly\n",
    "new_id = N\n",
    "build_tree = []\n",
    "Qs = [] #modularity array for each partition\n",
    "Δσs = []\n",
    "partitions = []\n",
    "\n",
    "while(len(clusters) > 1):    \n",
    "    partitions.append(partition(clusters))\n",
    "    (i,j, min_Δσ) = find_to_merge(clusters)\n",
    "    # Compute new partion\n",
    "    clusters[new_id] = merge_clusters(clusters[i],clusters[j], clusters, new_id)\n",
    "    clusters.pop(i)\n",
    "    clusters.pop(j)\n",
    "    \n",
    "    # For dendogram\n",
    "    build_tree.append((new_id, i, j))\n",
    "    \n",
    "    Δσs.append(min_Δσ)\n",
    "    Qs.append(modularity(clusters))\n",
    "    new_id += 1\n",
    "    \n",
    "print(\"Qs: {}\".format(Qs))\n",
    "print(\"Δσs: {}\".format(Δσs))"
   ]
  },
  {
   "cell_type": "markdown",
   "metadata": {},
   "source": [
    "### Evaluate partitions and choose optimal"
   ]
  },
  {
   "cell_type": "code",
   "execution_count": 460,
   "metadata": {
    "collapsed": false
   },
   "outputs": [],
   "source": [
    "#create linkage matrix\n",
    "Z = np.array([[id1, id2, j+1, 0] for (j, (new_id, id1, id2)) in enumerate(build_tree)], dtype=np.double)"
   ]
  },
  {
   "cell_type": "code",
   "execution_count": 461,
   "metadata": {
    "collapsed": false
   },
   "outputs": [
    {
     "data": {
      "text/plain": [
       "{'color_list': ['g',\n",
       "  'g',\n",
       "  'g',\n",
       "  'g',\n",
       "  'b',\n",
       "  'b',\n",
       "  'r',\n",
       "  'b',\n",
       "  'c',\n",
       "  'm',\n",
       "  'm',\n",
       "  'm',\n",
       "  'm',\n",
       "  'm',\n",
       "  'm',\n",
       "  'm',\n",
       "  'b',\n",
       "  'b',\n",
       "  'b'],\n",
       " 'dcoord': [[0.0, 5.0, 5.0, 0.0],\n",
       "  [0.0, 2.0, 2.0, 0.0],\n",
       "  [0.0, 10.0, 10.0, 2.0],\n",
       "  [5.0, 12.0, 12.0, 10.0],\n",
       "  [0.0, 14.0, 14.0, 0.0],\n",
       "  [12.0, 17.0, 17.0, 14.0],\n",
       "  [0.0, 6.0, 6.0, 0.0],\n",
       "  [0.0, 15.0, 15.0, 6.0],\n",
       "  [0.0, 8.0, 8.0, 0.0],\n",
       "  [0.0, 9.0, 9.0, 0.0],\n",
       "  [0.0, 4.0, 4.0, 0.0],\n",
       "  [0.0, 1.0, 1.0, 0.0],\n",
       "  [0.0, 3.0, 3.0, 1.0],\n",
       "  [0.0, 7.0, 7.0, 3.0],\n",
       "  [4.0, 11.0, 11.0, 7.0],\n",
       "  [9.0, 13.0, 13.0, 11.0],\n",
       "  [8.0, 16.0, 16.0, 13.0],\n",
       "  [15.0, 18.0, 18.0, 16.0],\n",
       "  [17.0, 19.0, 19.0, 18.0]],\n",
       " 'icoord': [[5.0, 5.0, 15.0, 15.0],\n",
       "  [35.0, 35.0, 45.0, 45.0],\n",
       "  [25.0, 25.0, 40.0, 40.0],\n",
       "  [10.0, 10.0, 32.5, 32.5],\n",
       "  [55.0, 55.0, 65.0, 65.0],\n",
       "  [21.25, 21.25, 60.0, 60.0],\n",
       "  [85.0, 85.0, 95.0, 95.0],\n",
       "  [75.0, 75.0, 90.0, 90.0],\n",
       "  [105.0, 105.0, 115.0, 115.0],\n",
       "  [125.0, 125.0, 135.0, 135.0],\n",
       "  [145.0, 145.0, 155.0, 155.0],\n",
       "  [185.0, 185.0, 195.0, 195.0],\n",
       "  [175.0, 175.0, 190.0, 190.0],\n",
       "  [165.0, 165.0, 182.5, 182.5],\n",
       "  [150.0, 150.0, 173.75, 173.75],\n",
       "  [130.0, 130.0, 161.875, 161.875],\n",
       "  [110.0, 110.0, 145.9375, 145.9375],\n",
       "  [82.5, 82.5, 127.96875, 127.96875],\n",
       "  [40.625, 40.625, 105.234375, 105.234375]],\n",
       " 'ivl': ['0',\n",
       "  '3',\n",
       "  '13',\n",
       "  '7',\n",
       "  '15',\n",
       "  '12',\n",
       "  '18',\n",
       "  '14',\n",
       "  '2',\n",
       "  '10',\n",
       "  '9',\n",
       "  '19',\n",
       "  '6',\n",
       "  '8',\n",
       "  '5',\n",
       "  '16',\n",
       "  '11',\n",
       "  '17',\n",
       "  '1',\n",
       "  '4'],\n",
       " 'leaves': [0,\n",
       "  3,\n",
       "  13,\n",
       "  7,\n",
       "  15,\n",
       "  12,\n",
       "  18,\n",
       "  14,\n",
       "  2,\n",
       "  10,\n",
       "  9,\n",
       "  19,\n",
       "  6,\n",
       "  8,\n",
       "  5,\n",
       "  16,\n",
       "  11,\n",
       "  17,\n",
       "  1,\n",
       "  4]}"
      ]
     },
     "execution_count": 461,
     "metadata": {},
     "output_type": "execute_result"
    },
    {
     "data": {
      "image/png": "[encoded data removed]",
      "text/plain": [
       "<matplotlib.figure.Figure at 0x1102adf60>"
      ]
     },
     "metadata": {},
     "output_type": "display_data"
    }
   ],
   "source": [
    "dendrogram(Z)"
   ]
  },
  {
   "cell_type": "code",
   "execution_count": 462,
   "metadata": {
    "collapsed": false
   },
   "outputs": [
    {
     "data": {
      "text/plain": [
       "[<matplotlib.lines.Line2D at 0x1104d6668>]"
      ]
     },
     "execution_count": 462,
     "metadata": {},
     "output_type": "execute_result"
    },
    {
     "data": {
      "image/png": "[encoded data removed]",
      "text/plain": [
       "<matplotlib.figure.Figure at 0x1105f2f60>"
      ]
     },
     "metadata": {},
     "output_type": "display_data"
    }
   ],
   "source": [
    "plt.plot(np.arange(len(Qs)), Qs)"
   ]
  },
  {
   "cell_type": "code",
   "execution_count": 463,
   "metadata": {
    "collapsed": false
   },
   "outputs": [
    {
     "name": "stdout",
     "output_type": "stream",
     "text": [
      "[0.0, 0.0, 1.3172433142569986e-07, 3.2895771240634252e-07, 8.6001151160771751e-07, 8.7388860512143686e-07, 1.3326678186158507e-06, 2.0916376347366615e-06, 2.3037501630136186e-06, 2.5357925770863101e-06, 3.0842760651420116e-06, 7.9837751630485141e-06, 2.2538453655337417e-05, 2.4352100233262638e-05, 3.4474648016635824e-05, 4.3059302814550509e-05, 0.00012236720108836505, 0.002197528595014246, 0.0041228429944322863]\n"
     ]
    },
    {
     "data": {
      "text/plain": [
       "[<matplotlib.lines.Line2D at 0x1101c9a58>]"
      ]
     },
     "execution_count": 463,
     "metadata": {},
     "output_type": "execute_result"
    },
    {
     "data": {
      "image/png": "[encoded data removed]",
      "text/plain": [
       "<matplotlib.figure.Figure at 0x1104cb278>"
      ]
     },
     "metadata": {},
     "output_type": "display_data"
    }
   ],
   "source": [
    "print(Δσs)\n",
    "plt.plot(np.arange(len(Δσs)), Δσs)"
   ]
  },
  {
   "cell_type": "code",
   "execution_count": 464,
   "metadata": {
    "collapsed": false
   },
   "outputs": [
    {
     "name": "stdout",
     "output_type": "stream",
     "text": [
      "[0.0, 0.0, 1.3172433142569986e-07, 3.2895771240634252e-07, 8.6001151160771751e-07, 8.7388860512143686e-07, 1.3326678186158507e-06, 2.0916376347366615e-06, 2.3037501630136186e-06, 2.5357925770863101e-06, 3.0842760651420116e-06, 7.9837751630485141e-06, 2.2538453655337417e-05, 2.4352100233262638e-05, 3.4474648016635824e-05, 4.3059302814550509e-05, 0.00012236720108836505, 0.002197528595014246, 0.0041228429944322863]\n",
      "[  1.8761  17.9585   2.8418   1.249    1.4157   1.0805   2.823    2.5885\n",
      "   1.2163   1.1007   1.1014   1.5695   1.525    1.0161   2.6144   2.4973\n",
      "      inf      nan]\n"
     ]
    },
    {
     "name": "stderr",
     "output_type": "stream",
     "text": [
      "/Users/sebastian/anaconda/envs/python3/lib/python3.5/site-packages/ipykernel/__main__.py:3: RuntimeWarning: divide by zero encountered in true_divide\n",
      "  app.launch_new_instance()\n",
      "/Users/sebastian/anaconda/envs/python3/lib/python3.5/site-packages/ipykernel/__main__.py:3: RuntimeWarning: invalid value encountered in true_divide\n",
      "  app.launch_new_instance()\n"
     ]
    },
    {
     "data": {
      "image/png": "[encoded data removed]",
      "text/plain": [
       "<matplotlib.figure.Figure at 0x110414a20>"
      ]
     },
     "metadata": {},
     "output_type": "display_data"
    }
   ],
   "source": [
    "#compute η's\n",
    "print(Δσs)\n",
    "η = np.array(Δσs)[1:] / np.array(Δσs)[:-1]\n",
    "print(np.flip(η, axis=0))\n",
    "plt.plot(np.arange(len(η)), np.flip(η, axis=0))\n",
    "best_num_clusters = np.argmax(np.flip(η, axis=0)[1:]) + 1"
   ]
  },
  {
   "cell_type": "code",
   "execution_count": 465,
   "metadata": {
    "collapsed": false
   },
   "outputs": [
    {
     "name": "stdout",
     "output_type": "stream",
     "text": [
      "[[0, 18, 3, 7, 12, 13, 15], [1, 2, 4, 5, 6, 8, 9, 10, 11, 14, 16, 17, 19]]\n"
     ]
    }
   ],
   "source": [
    "print(partitions[N-2])"
   ]
  },
  {
   "cell_type": "code",
   "execution_count": 466,
   "metadata": {
    "collapsed": false
   },
   "outputs": [
    {
     "data": {
      "image/png": "[encoded data removed]",
      "text/plain": [
       "<matplotlib.figure.Figure at 0x1101d1208>"
      ]
     },
     "metadata": {},
     "output_type": "display_data"
    }
   ],
   "source": [
    "draw_graph(partitions[N-2], 2)"
   ]
  },
  {
   "cell_type": "code",
   "execution_count": 467,
   "metadata": {
    "collapsed": false
   },
   "outputs": [
    {
     "data": {
      "image/png": "[encoded data removed]",
      "text/plain": [
       "<matplotlib.figure.Figure at 0x10f42bef0>"
      ]
     },
     "metadata": {},
     "output_type": "display_data"
    }
   ],
   "source": [
    "draw_graph(partitions[N-3], 3)"
   ]
  },
  {
   "cell_type": "code",
   "execution_count": 472,
   "metadata": {
    "collapsed": false
   },
   "outputs": [
    {
     "name": "stdout",
     "output_type": "stream",
     "text": [
      "17\n",
      "[[0], [2], [3], [5], [6], [8], [9], [10], [11], [12], [13], [14], [16], [18], [19], [15, 7], [17, 4, 1]]\n"
     ]
    },
    {
     "ename": "IndexError",
     "evalue": "list index out of range",
     "output_type": "error",
     "traceback": [
      "\u001b[0;31m---------------------------------------------------------------------------\u001b[0m",
      "\u001b[0;31mIndexError\u001b[0m                                Traceback (most recent call last)",
      "\u001b[0;32m<ipython-input-472-7bd1a8ff7468>\u001b[0m in \u001b[0;36m<module>\u001b[0;34m()\u001b[0m\n\u001b[1;32m      1\u001b[0m \u001b[0mprint\u001b[0m\u001b[0;34m(\u001b[0m\u001b[0mbest_num_clusters\u001b[0m\u001b[0;34m)\u001b[0m\u001b[0;34m\u001b[0m\u001b[0m\n\u001b[1;32m      2\u001b[0m \u001b[0mprint\u001b[0m\u001b[0;34m(\u001b[0m\u001b[0mpartitions\u001b[0m\u001b[0;34m[\u001b[0m\u001b[0mN\u001b[0m\u001b[0;34m-\u001b[0m\u001b[0mbest_num_clusters\u001b[0m\u001b[0;34m]\u001b[0m\u001b[0;34m)\u001b[0m\u001b[0;34m\u001b[0m\u001b[0m\n\u001b[0;32m----> 3\u001b[0;31m \u001b[0mdraw_graph\u001b[0m\u001b[0;34m(\u001b[0m\u001b[0mpartitions\u001b[0m\u001b[0;34m[\u001b[0m\u001b[0mN\u001b[0m\u001b[0;34m-\u001b[0m\u001b[0mbest_num_clusters\u001b[0m\u001b[0;34m]\u001b[0m\u001b[0;34m,\u001b[0m \u001b[0mbest_num_clusters\u001b[0m\u001b[0;34m)\u001b[0m\u001b[0;34m\u001b[0m\u001b[0m\n\u001b[0m",
      "\u001b[0;32m<ipython-input-451-e1956ce88846>\u001b[0m in \u001b[0;36mdraw_graph\u001b[0;34m(clusters, num_clusters)\u001b[0m\n\u001b[1;32m      5\u001b[0m     \u001b[0mpos\u001b[0m \u001b[0;34m=\u001b[0m \u001b[0mnx\u001b[0m\u001b[0;34m.\u001b[0m\u001b[0mspring_layout\u001b[0m\u001b[0;34m(\u001b[0m\u001b[0mG\u001b[0m\u001b[0;34m)\u001b[0m\u001b[0;34m\u001b[0m\u001b[0m\n\u001b[1;32m      6\u001b[0m     \u001b[0;32mfor\u001b[0m \u001b[0mi\u001b[0m \u001b[0;32min\u001b[0m \u001b[0mrange\u001b[0m\u001b[0;34m(\u001b[0m\u001b[0mnum_clusters\u001b[0m\u001b[0;34m)\u001b[0m\u001b[0;34m:\u001b[0m\u001b[0;34m\u001b[0m\u001b[0m\n\u001b[0;32m----> 7\u001b[0;31m         \u001b[0mnx\u001b[0m\u001b[0;34m.\u001b[0m\u001b[0mdraw_networkx_nodes\u001b[0m\u001b[0;34m(\u001b[0m\u001b[0mG\u001b[0m\u001b[0;34m,\u001b[0m \u001b[0mpos\u001b[0m\u001b[0;34m,\u001b[0m \u001b[0mnodelist\u001b[0m\u001b[0;34m=\u001b[0m\u001b[0mclusters\u001b[0m\u001b[0;34m[\u001b[0m\u001b[0mi\u001b[0m\u001b[0;34m]\u001b[0m\u001b[0;34m,\u001b[0m \u001b[0mnode_color\u001b[0m\u001b[0;34m=\u001b[0m\u001b[0mcolors\u001b[0m\u001b[0;34m[\u001b[0m\u001b[0mi\u001b[0m\u001b[0;34m]\u001b[0m\u001b[0;34m,\u001b[0m \u001b[0mnode_size\u001b[0m\u001b[0;34m=\u001b[0m\u001b[0;36m500\u001b[0m\u001b[0;34m,\u001b[0m \u001b[0malpha\u001b[0m\u001b[0;34m=\u001b[0m\u001b[0;36m1\u001b[0m\u001b[0;34m)\u001b[0m\u001b[0;34m\u001b[0m\u001b[0m\n\u001b[0m\u001b[1;32m      8\u001b[0m     \u001b[0;31m# nx.draw_networkx_nodes(G, pos, nodelist=cluster2_nodes, node_color='g', node_size=500, alpha=1)\u001b[0m\u001b[0;34m\u001b[0m\u001b[0;34m\u001b[0m\u001b[0m\n\u001b[1;32m      9\u001b[0m     \u001b[0mnx\u001b[0m\u001b[0;34m.\u001b[0m\u001b[0mdraw_networkx_edges\u001b[0m\u001b[0;34m(\u001b[0m\u001b[0mG\u001b[0m\u001b[0;34m,\u001b[0m \u001b[0mpos\u001b[0m\u001b[0;34m,\u001b[0m \u001b[0mwidth\u001b[0m\u001b[0;34m=\u001b[0m\u001b[0;36m0.5\u001b[0m\u001b[0;34m)\u001b[0m\u001b[0;34m\u001b[0m\u001b[0m\n",
      "\u001b[0;31mIndexError\u001b[0m: list index out of range"
     ]
    },
    {
     "data": {
      "image/png": "[encoded data removed]",
      "text/plain": [
       "<matplotlib.figure.Figure at 0x10f2ec3c8>"
      ]
     },
     "metadata": {},
     "output_type": "display_data"
    }
   ],
   "source": [
    "print(best_num_clusters)\n",
    "print(partitions[N-best_num_clusters])\n",
    "draw_graph(partitions[N-best_num_clusters], best_num_clusters)"
   ]
  },
  {
   "cell_type": "code",
   "execution_count": null,
   "metadata": {
    "collapsed": true
   },
   "outputs": [],
   "source": []
  }
 ],
 "metadata": {
  "anaconda-cloud": {},
  "kernelspec": {
   "display_name": "Python [conda env:python3]",
   "language": "python",
   "name": "conda-env-python3-py"
  },
  "language_info": {
   "codemirror_mode": {
    "name": "ipython",
    "version": 3
   },
   "file_extension": ".py",
   "mimetype": "text/x-python",
   "name": "python",
   "nbconvert_exporter": "python",
   "pygments_lexer": "ipython3",
   "version": "3.5.2"
  },
  "toc": {
   "nav_menu": {},
   "number_sections": true,
   "sideBar": true,
   "skip_h1_title": false,
   "toc_cell": false,
   "toc_position": {},
   "toc_section_display": "block",
   "toc_window_display": false
  }
 },
 "nbformat": 4,
 "nbformat_minor": 2
}
